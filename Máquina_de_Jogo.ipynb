{
  "nbformat": 4,
  "nbformat_minor": 0,
  "metadata": {
    "colab": {
      "name": "Máquina de Jogo",
      "provenance": [],
      "collapsed_sections": [],
      "authorship_tag": "ABX9TyNM6GhHsOvlgAYWW2v2pj54",
      "include_colab_link": true
    },
    "kernelspec": {
      "name": "python3",
      "display_name": "Python 3"
    },
    "language_info": {
      "name": "python"
    }
  },
  "cells": [
    {
      "cell_type": "markdown",
      "metadata": {
        "id": "view-in-github",
        "colab_type": "text"
      },
      "source": [
        "<a href=\"https://colab.research.google.com/github/BaldoHenrique/Aula-blue/blob/main/M%C3%A1quina_de_Jogo.ipynb\" target=\"_parent\"><img src=\"https://colab.research.google.com/assets/colab-badge.svg\" alt=\"Open In Colab\"/></a>"
      ]
    },
    {
      "cell_type": "markdown",
      "source": [
        "# Máquina de jogo\n",
        "\n",
        "* Possui um valor na máquina\n",
        "* Escolhe quanto quer apostar\n",
        "* Indica um numero\n",
        "* Se acertar ganha o que acertou x10 ou o que estiver na máquina\n",
        "* se errar perde  dinheiro apostado\n",
        "* Quanto tem no final do dia?\n"
      ],
      "metadata": {
        "id": "ajlLO33SaA07"
      }
    },
    {
      "cell_type": "code",
      "source": [
        "import random\n",
        "\n",
        "user=\"sim\"\n",
        "valor_usuario_total = 0\n",
        "valor_maquina = int(input(\"Valor que a máquina irá iniciar o dia: \"))\n",
        "print(\"\\nValor total na máquina:\",valor_maquina,\"$\")\n",
        "while user==\"sim\" :\n",
        "    valor_usuario = int(input(\"Qual o valor que deseja jogar? \"))\n",
        "    valor_usuario_total -= valor_usuario\n",
        "    valor_maquina += valor_usuario\n",
        "    num_usuario = int(input(\"Escolha o seu número da aposta, entre 1 e 9: \"))\n",
        "    num_maquina = random.randint(8,9)\n",
        "    print(\"você apostou\",valor_usuario,\"$\",\"  Você escolheu o número:\",num_usuario)\n",
        "    \n",
        "    if num_usuario==num_maquina :\n",
        "        print(\"O número sorteado foi:\",num_maquina,\"  VOCÊ GANHOU!!!\")\n",
        "        valor_ganhador = valor_usuario*10\n",
        "        \n",
        "        if valor_ganhador > valor_maquina :\n",
        "            print(\"Você zerou a máquinha, levou todo o dinheiro:\",valor_maquina,\"$\")\n",
        "            valor_usuario_total += valor_maquina\n",
        "           \n",
        "            valor_máquina = 0     \n",
        "        else :\n",
        "            print(\"Você ganhou:\",valor_ganhador,\"$\")\n",
        "            valor_usuario_total += valor_ganhador\n",
        "            \n",
        "            valor_máquina -= valor_ganhador\n",
        "    else :\n",
        "        print(\"O número sorteado foi:\",num_maquina,\"  VOCÊ PERDEU!!!\")\n",
        "        \n",
        "\n",
        "    print(\"\\nValor total na máquina:\",valor_maquina,\"$\")\n",
        "    user = str(input(\"Deseja jogar novamente? sim ou não? \").strip().lower())  \n",
        "\n",
        "print(\"\\nO jogo está encerrado!\")\n",
        "if valor_usuario_total>0 :\n",
        "    print(\"Resultado Final: Você ganhou\", valor_usuario_total,\"$\")\n",
        "elif valor_usuario_total<0 :\n",
        "    print(\"Resultado Final: Você perdeu\", abs(valor_usuario_total),\"$\")\n",
        "else :\n",
        "    print(\"Resultado Final: Você saiu no empate\", valor_usuario_total,\"$\")"
      ],
      "metadata": {
        "id": "LyEMTmLbCC5-"
      },
      "execution_count": null,
      "outputs": []
    }
  ]
}