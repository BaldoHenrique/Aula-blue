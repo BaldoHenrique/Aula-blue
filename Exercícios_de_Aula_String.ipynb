{
  "nbformat": 4,
  "nbformat_minor": 0,
  "metadata": {
    "colab": {
      "name": "Exercícios de Aula - String",
      "provenance": [],
      "collapsed_sections": [],
      "authorship_tag": "ABX9TyNvq4hIbRrAdJPx3Z0G/uYO",
      "include_colab_link": true
    },
    "kernelspec": {
      "name": "python3",
      "display_name": "Python 3"
    },
    "language_info": {
      "name": "python"
    }
  },
  "cells": [
    {
      "cell_type": "markdown",
      "metadata": {
        "id": "view-in-github",
        "colab_type": "text"
      },
      "source": [
        "<a href=\"https://colab.research.google.com/github/BaldoHenrique/Aula-blue/blob/main/Exerc%C3%ADcios_de_Aula_String.ipynb\" target=\"_parent\"><img src=\"https://colab.research.google.com/assets/colab-badge.svg\" alt=\"Open In Colab\"/></a>"
      ]
    },
    {
      "cell_type": "markdown",
      "source": [
        "#Exercícios de Aula - String"
      ],
      "metadata": {
        "id": "_Duida3DEXu1"
      }
    },
    {
      "cell_type": "markdown",
      "source": [
        "1 - Peça ao usuário um nome e exiba na tela uma palavra com a primeira letra, a letra do meio e a última. Por exemplo, com o nome Jonas, o resultado deve ser a string Jns."
      ],
      "metadata": {
        "id": "0YKPfYWA2qr5"
      }
    },
    {
      "cell_type": "code",
      "execution_count": null,
      "metadata": {
        "id": "orNZg1mF2c4m"
      },
      "outputs": [],
      "source": [
        "import math               #jeito que eu fiz, mais comprido, mesma lógica\n",
        "\n",
        "nome = str((input(\"Digite seu nome: \")))\n",
        "print(\"Nome: \",nome, type(nome))\n",
        "cc = len(nome)                 #comprimento do nome\n",
        "mdl = math.floor(cc/2)       # divide o comprimento pela metade\n",
        "if (cc%2==0):                 # se a palavra for de numero par, então imprime as duas do meio\n",
        "  midlle = nome[mdl-1:mdl+1]\n",
        "else:                                 # se for numero impar imprime a do meio\n",
        "  midlle = nome[mdl]\n",
        "\n",
        "print(nome[0],midlle,nome[cc-1])\n",
        "print(\"first Character:\",nome[0])\n",
        "print(\"midlle Character:\",midlle)\n",
        "print(\"last Character:\",nome[cc-1])\n"
      ]
    },
    {
      "cell_type": "markdown",
      "source": [
        "2 - Peça ao usuário o nome de um familiar e o grau de parentesco. Exiba na tela o grau de parentesco e o nome da pessoa. Por exemplo, Judite e Tia devem retornar Tia Judite."
      ],
      "metadata": {
        "id": "yTovOmpt3_gz"
      }
    },
    {
      "cell_type": "code",
      "source": [
        "name = input(\"Enter a relative name: \")\n",
        "relative = input(\"Enter your relantionship: \")\n",
        "print(relative, name)"
      ],
      "metadata": {
        "id": "GHuiQqSz4BVG"
      },
      "execution_count": null,
      "outputs": []
    },
    {
      "cell_type": "markdown",
      "source": [
        "3 - Faça um contador de palavras, peça ao usuário um texto e exiba na tela quantas palavras tem no texto. Faça o mesmo para as letras."
      ],
      "metadata": {
        "id": "V8aqI_qw6yCd"
      }
    },
    {
      "cell_type": "code",
      "source": [
        "text = str(input())\n",
        "print(str.split(text))              #transforma o texto em lista de palavras\n",
        "print('palavras:',len(str.split(text)))         #contagem da lista de palavras\n",
        "print(len(text))                   #contagem das palavras, incluindo os espaços \n",
        "print('letras:',len(text)-text.count(\" \"))   #contagem sem estaço"
      ],
      "metadata": {
        "id": "2c1T8WCf6_H5"
      },
      "execution_count": null,
      "outputs": []
    },
    {
      "cell_type": "markdown",
      "source": [
        "4 - Faça um programa que verifica se uma string é parte de outra, retorne True se sim e False caso contrário. O programa não deve ser sensível a letras maiúsculas, ou minúsculas. Por exemplo as duas strings casa e no fim da rua tem uma casa devem retornar True, agora a palavra bola e a frase no fim da rua tem uma casa deve retornar False."
      ],
      "metadata": {
        "id": "S-wZqz1s9JO3"
      }
    },
    {
      "cell_type": "code",
      "source": [
        "#A vida e uma caixa preta nunca saberemos o seu real significado especial\n",
        "#Faça a pessoa que você gosta se sentir especial ao invés de só mais uma\n",
        "\n",
        "# na frase 1 precisa ser apenas uma palavra para funcionar\n",
        "frase_1 = input(\"Enter frase 1: \").strip().lower()       #tira os espaços e deixa tudo minusculo\n",
        "frase_2 = input(\"Enter frase 2: \").strip().lower() \n",
        "frase_1 in frase_2\n",
        "\n"
      ],
      "metadata": {
        "id": "VS3AKg_T-2Af"
      },
      "execution_count": null,
      "outputs": []
    },
    {
      "cell_type": "markdown",
      "source": [
        "5 - Peça uma palavra ao usuário e verifique se há um número na palavra, depois verifique se ele está na primeira, ou última posição. Caso esteja entre os extremos você ainda não tem meios para fazer isso, mas terá depois de aprender os laços de repetição."
      ],
      "metadata": {
        "id": "OFvY63iTBtOK"
      }
    },
    {
      "cell_type": "code",
      "source": [
        "frase_1 = input(\"Enter frase 1: \").strip().lower()       \n",
        "\n",
        "# emp_str = \"\"\n",
        "# for m in frase_1:\n",
        "#     if m.isdigit():\n",
        "#         emp_str = emp_str + m\n",
        "# print(\"Find numbers from string:\",emp_str) \n",
        "\n",
        "if frase_1.isalpha() == False:                #checa se há algum número na frase\n",
        "  print(\"há um número na frase\")\n",
        "  if frase_1[0].isnumeric() == True :       #checa se há algum número na primeira posição da frase\n",
        "    print(\"há um número na primeira posição\")\n",
        "  else:\n",
        "    print(\"NÃO há um número na primeira posição\")\n",
        "  if frase_1[len(frase_1) - 1].isnumeric() == True :      #checa se há algum número na última posição da frase\n",
        "    print(\"há um número na última posição\")\n",
        "  else:\n",
        "    print(\"NÃO há um número na última posição posição\")\n",
        "else:\n",
        "  print(\"não há número na frase\")"
      ],
      "metadata": {
        "id": "uSCjMhRZBw7A"
      },
      "execution_count": null,
      "outputs": []
    },
    {
      "cell_type": "markdown",
      "source": [
        "6 - Pesquise sobre a técnica slice. Peça ao usuário um texto e um número, devolva as primeiras letras que equivalem ao número fornecido, por exemplo a palavra casa e o número 3, o resultado será cas. Caso a quantidade de letra seja menor do que o número fornecido, informe uma mensagem de erro."
      ],
      "metadata": {
        "id": "a4-NEFgFFpGb"
      }
    },
    {
      "cell_type": "code",
      "source": [
        "frase = str(input(\"Enter frase: \").strip().lower())\n",
        "numero = int(input(\"Enter a number: \")) \n",
        "# print(numero)\n",
        "# print(len(frase))\n",
        "if (numero > len(frase)) :\n",
        "  print(\"error: number is biggest then number of characters\")\n",
        "else  :\n",
        "  nletras = slice(numero)\n",
        "  print(nletras)\n",
        "  print(frase[nletras])\n",
        "\n",
        "\n",
        "\n",
        "\n"
      ],
      "metadata": {
        "id": "FTVzdBNOFzKC"
      },
      "execution_count": null,
      "outputs": []
    },
    {
      "cell_type": "markdown",
      "source": [
        "7 - Utilize o método re.sub() para substituir caracteres especiais (! ? @ , . -) de um texto por espaços vazios, por exemplo o texto Es@te t-exto!! t?em? c.a.r.a.c.t.e.r.e.s. e,,,speciais deve retornar Este texto tem caracteres especiais."
      ],
      "metadata": {
        "id": "8iJn0YlcPzFE"
      }
    },
    {
      "cell_type": "code",
      "source": [
        "import re\n",
        "\n",
        "frase_aa = str([\"Es@te t-exto!! t?em? c.a.r.a.c.t.e.r.e.s. e,,,speciais\"])\n",
        "print(frase_aa)\n",
        "frase_a = frase_aa.strip().lower()\n",
        "# frase_2 = str(input(\"Enter frase: \").strip().lower())\n",
        "print(frase_a)\n",
        "# print(frase_2)\n",
        "\n",
        "resulta = re.sub(\"[!?@,.-]\",\"\",frase_a)\n",
        "# result2 = re.sub(\"[!?@,.-]\",\"\",frase_2)\n",
        "print(resulta)\n",
        "# print(\"\\n\",result2)\n"
      ],
      "metadata": {
        "id": "eHQ2MtwkP83P"
      },
      "execution_count": null,
      "outputs": []
    },
    {
      "cell_type": "markdown",
      "source": [
        "8 - Peça a um usuário o nome e o ano de nascimento no formato aaaa.\n",
        "Caso o nome esteja vazio, exiba uma mensagem de erro.\n",
        "Caso o nome possua números, exiba uma mensagem de erro.\n",
        "Caso o ano seja 2010 e o usuário só digitou 10, informe que o ano deve ser no formato aaaa.\n",
        "Caso tudo esteja correto, devolva uma senha formada pelos dois últimos dígitos do ano seguidos das duas primeiras letras do nome do usuário, mais os primeiros dois dígitos do ano, seguido pelo restante do nome do usuário.\n",
        "Por exemplo, o nome Astolfo e o ano 2003 devem resultar na senha 03As20tolfo."
      ],
      "metadata": {
        "id": "3xWTMZAlVfb-"
      }
    },
    {
      "cell_type": "code",
      "source": [
        "nome = str(input(\"Enter your name: \"))\n",
        "data = int(input(\"Enter your year of birth(ex:2000):\"))\n",
        "\n",
        "if nome==\"\":\n",
        "  print(\"error: your don't enter your name\")\n",
        "else:\n",
        "  b=nome[:2]\n",
        "  d=nome[2:]\n",
        "if nome.isalpha() == False :\n",
        "  print(\"error: you enter number in your name\")\n",
        "if len(str(data)) == 4:\n",
        "  data_1 = str(data)\n",
        "  a=data_1[2]+data_1[3]\n",
        "  c=data_1[0]+data_1[1] \n",
        "elif len(str(data)) == 2:\n",
        "  print(\"error: you enter your year like a wrong format: \", data, \" Please enter again like aaaa\")\n",
        "else: \n",
        "  print(\"error: please enter your year of birth in this format, ex:2010\")\n",
        "\n",
        "print(a+b+c+d)"
      ],
      "metadata": {
        "id": "N3qCeoWKVmDN"
      },
      "execution_count": null,
      "outputs": []
    },
    {
      "cell_type": "markdown",
      "source": [
        "9 - Faça um programa no qual o usuário digita um texto de 6 caracteres, caso seja maior, menor do que isso, ou vazio, deve retornar uma mensagem de erro. Caso contrário uma lista aparecerá enumerando a posição de cada caractere. No caso de Wesley o resultado deve ser:\n",
        "A primeira letra é W\n",
        "A segunda letra é e\n",
        "A terceira letra é s\n",
        "A quarta letra é l\n",
        "A quinta letra é e\n",
        "A sexta letra é y"
      ],
      "metadata": {
        "id": "CmkqVF04evuJ"
      }
    },
    {
      "cell_type": "code",
      "source": [
        "word = str(input(\"Enter a word with 6 characters: \"))\n",
        "\n",
        "if len(word)==6 :\n",
        "  # for i in range(0,len(word)):              usando looping conseguimos diminuir o código, porem não sei como escrever, primeira, segunda...\n",
        "  #   print(word[i])\n",
        "\n",
        "  print(\"A primeira letra é\",word[0])\n",
        "  print(\"A segunda letra é\",word[1])\n",
        "  print(\"A terceira letra é\",word[2])\n",
        "  print(\"A quarta letra é\",word[3])\n",
        "  print(\"A quinta letra é\",word[4])\n",
        "  print(\"A sexta letra é\",word[5])\n",
        "elif len(word)>6 :\n",
        "  print(\"error: your word has more then 6 characteres!!\")\n",
        "elif 0<len(word)<6 :\n",
        "  print(\"error: your word has less then 6 characteres!!\")\n",
        "else :\n",
        "  print(\"error: your word has no characteres!!\")\n"
      ],
      "metadata": {
        "id": "-cY6BFiQO3wi"
      },
      "execution_count": null,
      "outputs": []
    }
  ]
}