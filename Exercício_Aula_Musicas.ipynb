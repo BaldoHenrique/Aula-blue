{
  "nbformat": 4,
  "nbformat_minor": 0,
  "metadata": {
    "colab": {
      "name": "Exercício Aula - Musicas ",
      "provenance": [],
      "collapsed_sections": [],
      "authorship_tag": "ABX9TyN9Ae23XLR0y3RzFfo4y59X",
      "include_colab_link": true
    },
    "kernelspec": {
      "name": "python3",
      "display_name": "Python 3"
    },
    "language_info": {
      "name": "python"
    }
  },
  "cells": [
    {
      "cell_type": "markdown",
      "metadata": {
        "id": "view-in-github",
        "colab_type": "text"
      },
      "source": [
        "<a href=\"https://colab.research.google.com/github/BaldoHenrique/Aula-blue/blob/main/Exerc%C3%ADcio_Aula_Musicas.ipynb\" target=\"_parent\"><img src=\"https://colab.research.google.com/assets/colab-badge.svg\" alt=\"Open In Colab\"/></a>"
      ]
    },
    {
      "cell_type": "markdown",
      "source": [
        "#Exercício Aula - Musicas "
      ],
      "metadata": {
        "id": "FcMll6P7yget"
      }
    },
    {
      "cell_type": "code",
      "source": [
        "# song_title\tartist\tdanceability\tenergy\n",
        "musica = [\n",
        "['Open','Yellow Claw',0.522,0.8600],\n",
        "['Outlines','AlunaGeorge',0.741,0.4490],\n",
        "['Step','Vampire Weekend',0.624,0.7240],\n",
        "['Dont Threaten Me With A Good Time','Panic! At The Disco',0.559,0.8950],\n",
        "['Kissing Strangers','DNCE',0.776,0.7410],\n",
        "['Satellite','SALTNPAPER',0.385,0.4040],\n",
        "['The Devils Den','Skrillex',0.616,0.9460],\n",
        "['Sleepwalk','Santo & Johnny',0.444,0.4120],\n",
        "['We Dem Boyz','Wiz Khalifa',0.717,0.8620],\n",
        "['Pyramids','Frank Ocean',0.405,0.6470],\n",
        "['Hannah Hunt','Vampire Weekend',0.345,0.3130],\n",
        "['Save the World','Swedish House Mafia',0.654,0.7340],\n",
        "['Im in LOVE With GO-GO Dance','Trendsetter',0.510,0.6030],\n",
        "['Spacer Woman - Vocal','Charlie',0.742,0.9650],\n",
        "['Where or When','Wynton Marsalis',0.326,0.0575],\n",
        "['dance alot','Various Artists',0.466,0.9430],\n",
        "['GOT IT GOOD','KAYTRANADA',0.606,0.5030],\n",
        "['Agadoo - original','Black Lace',0.618,0.9600],\n",
        "['Truths & Rights','Johnny Osbourne',0.770,0.4090],\n",
        "['White Iverson','Post Malone',0.676,0.5280]\n",
        "]"
      ],
      "metadata": {
        "id": "txPYH4SPpYQS"
      },
      "execution_count": null,
      "outputs": []
    },
    {
      "cell_type": "code",
      "source": [
        "# importando a função matematica\n",
        "from math import sqrt"
      ],
      "metadata": {
        "id": "yWZ_OXqzpS30"
      },
      "execution_count": null,
      "outputs": []
    },
    {
      "cell_type": "code",
      "source": [
        "# função para fazer a distancia de outra forma, somando o quadrado dos dois e fazendo a raiz\n",
        "def musica_soma(danceability,energy) :\n",
        "  dist = sqrt((musica[i][danceability])**2 + (musica[i][energy])**2)\n",
        "  return dist"
      ],
      "metadata": {
        "id": "8-Kx-ulBpVq1"
      },
      "execution_count": null,
      "outputs": []
    },
    {
      "cell_type": "code",
      "source": [
        "# função usando d2,d1,e1,e2 \n",
        "def musica_soma_forma2(d2,d1,e2,e1) :\n",
        "  return sqrt((d2-d1)**2+(e2-e1)**2) "
      ],
      "metadata": {
        "id": "xUsIRAMgqx8N"
      },
      "execution_count": null,
      "outputs": []
    },
    {
      "cell_type": "code",
      "source": [
        "soma = []\n",
        "soma_compar = []\n",
        "\n",
        "for i in range(len(musica)):                                    \n",
        "#   # soma1 = musica_soma(i)                        #  testando funçoes\n",
        "  soma1 = musica[i][2] + musica[i][3]             #  primeiro jeito que eu fiz(meu)\n",
        "  #soma2 = musica_soma(2,3)          # função para fazer a distancia de outra forma, somando o quadrado dos dois e fazendo a raiz\n",
        "  soma2 = musica_soma_forma2(musica[i][2],0,musica[i][3],0)   # função usando d2,d1,e1,e2 \n",
        "  soma.append(soma1)\n",
        "  soma_compar.append(soma2)\n",
        "\n",
        "for n in range(len(musica)) :\n",
        "  print(\"Distância absoluta:\",round(soma[n],2),\" - \",\"Distância 2:\",round(soma_compar[n],2))"
      ],
      "metadata": {
        "id": "JPCpFtfmpoRA"
      },
      "execution_count": null,
      "outputs": []
    },
    {
      "cell_type": "code",
      "source": [
        "# usando a distância 1, somente soma da dançabilidade e da energia \n",
        "soma_animada = soma.index(max(soma))  \n",
        "soma_calma = soma.index(min(soma))\n",
        "print(\"musica animada, distancia absoluta: \",musica[soma_animada][0],musica[soma_animada][1])\n",
        "print(\"musica calma, distancia absoluta: \",musica[soma_calma][0],musica[soma_calma][1])"
      ],
      "metadata": {
        "id": "w0lpKerDpbCu"
      },
      "execution_count": null,
      "outputs": []
    },
    {
      "cell_type": "code",
      "source": [
        "# usando a distância 2, somando o quadrado dos dois e fazendo a raiz\n",
        "soma_animada_compar = soma_compar.index(max(soma_compar))  \n",
        "soma_calma_compar = soma_compar.index(min(soma_compar))\n",
        "print(\"musica animada, distancia 2: \",musica[soma_animada_compar][0],musica[soma_animada_compar][1])\n",
        "print(\"musica calma, distancia 2: \",musica[soma_calma_compar][0],musica[soma_calma_compar][1])"
      ],
      "metadata": {
        "id": "WdPleRznpyWb"
      },
      "execution_count": null,
      "outputs": []
    }
  ]
}