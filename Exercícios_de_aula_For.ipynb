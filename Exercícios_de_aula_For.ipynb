{
  "nbformat": 4,
  "nbformat_minor": 0,
  "metadata": {
    "colab": {
      "name": "Exercícios de aula- For",
      "provenance": [],
      "collapsed_sections": [],
      "authorship_tag": "ABX9TyPexOnn39fqIve/FC4SeD8R",
      "include_colab_link": true
    },
    "kernelspec": {
      "name": "python3",
      "display_name": "Python 3"
    },
    "language_info": {
      "name": "python"
    }
  },
  "cells": [
    {
      "cell_type": "markdown",
      "metadata": {
        "id": "view-in-github",
        "colab_type": "text"
      },
      "source": [
        "<a href=\"https://colab.research.google.com/github/BaldoHenrique/Aula-blue/blob/main/Exerc%C3%ADcios_de_aula_For.ipynb\" target=\"_parent\"><img src=\"https://colab.research.google.com/assets/colab-badge.svg\" alt=\"Open In Colab\"/></a>"
      ]
    },
    {
      "cell_type": "markdown",
      "source": [
        "# Exercícios de aula- For"
      ],
      "metadata": {
        "id": "BnGWRYJFUwyq"
      }
    },
    {
      "cell_type": "markdown",
      "source": [
        "Suponha que você queira escrever todos os número de 1 a 100, então você escreve o primeiro, o próximo vai ser o que você tem mais um e para quando chegar no 100. Em codigo isso fica:"
      ],
      "metadata": {
        "id": "QiwfgMdWBuwp"
      }
    },
    {
      "cell_type": "code",
      "execution_count": null,
      "metadata": {
        "id": "fA5tC7SRBmhY"
      },
      "outputs": [],
      "source": [
        "i = 0\n",
        "for n in range(0,101) : #imprime de 0 a 100\n",
        "  print(i)\n",
        "  i+=1                #i=i+1\n",
        "  "
      ]
    },
    {
      "cell_type": "code",
      "source": [
        "for i in range(5,0,-1) : #Regressão\n",
        "  print(i)"
      ],
      "metadata": {
        "id": "sXQQcRm8CPjX"
      },
      "execution_count": null,
      "outputs": []
    },
    {
      "cell_type": "code",
      "source": [
        "for i in range(0,101,2) : #Imprime pulando de 2 em 2(neste caso só os pares)\n",
        "  print(i)"
      ],
      "metadata": {
        "id": "gSNKXGBHDhsA"
      },
      "execution_count": null,
      "outputs": []
    },
    {
      "cell_type": "code",
      "source": [
        "sinal = \"*\"\n",
        "for i in range(1,11):\n",
        "    print(sinal)\n",
        "    sinal+=\"**$\""
      ],
      "metadata": {
        "id": "ZZdx6eqoEAyw"
      },
      "execution_count": null,
      "outputs": []
    },
    {
      "cell_type": "code",
      "source": [
        "nomeUsuario = \"Lucas\"\n",
        "print(nomeUsuario[0])\n",
        "print(nomeUsuario[1])\n",
        "print(nomeUsuario[2])\n",
        "print(nomeUsuario[3])\n",
        "print(nomeUsuario[4])"
      ],
      "metadata": {
        "id": "-Ypweg3dEK0A"
      },
      "execution_count": null,
      "outputs": []
    },
    {
      "cell_type": "code",
      "source": [
        "nomeUsuario = \"Lucas\"\n",
        "lnomeUsuario =  list(nomeUsuario)    # cria uma lista com as letras do nome\n",
        "print(lnomeUsuario)\n",
        "for i in range(0,len(lnomeUsuario)) :   # imprime as letras do nome \n",
        "  print(lnomeUsuario[i])"
      ],
      "metadata": {
        "id": "UuO1KsQkEi7D"
      },
      "execution_count": null,
      "outputs": []
    },
    {
      "cell_type": "code",
      "source": [
        "nomeUsuario = input(\"Digite seu nome: \")  #sem criar uma lista\n",
        "for i in range(len(nomeUsuario)):\n",
        "    print(nomeUsuario[i])"
      ],
      "metadata": {
        "id": "CsFzRoONGmpL"
      },
      "execution_count": null,
      "outputs": []
    },
    {
      "cell_type": "markdown",
      "source": [
        "primeiramente o básico, vamos colocar um limite bem alto de possibilidades e adicionar cada número digitado numa variável soma e contar quantos foram digitados:"
      ],
      "metadata": {
        "id": "iZor4_yRH8eM"
      }
    },
    {
      "cell_type": "code",
      "source": [
        "soma = 0\n",
        "for i in range(10000):\n",
        "    int(input(\"Digite um número: \"))   #este programana não para sozinho\n",
        "    soma1+=1\n",
        "    print(\"total de numeros digitados:\",soma)"
      ],
      "metadata": {
        "id": "ebify3vmIdl4"
      },
      "execution_count": null,
      "outputs": []
    },
    {
      "cell_type": "markdown",
      "source": [
        "Agora, caso ele queira parar no quinto número, ou no milésimo, podemos combinar um critério de parada através do comando break. Será combinado de se o número digitado for -1, então há a parada da estrutura de repetição."
      ],
      "metadata": {
        "id": "mnuD2xQxJjNi"
      }
    },
    {
      "cell_type": "code",
      "source": [
        "soma = 0\n",
        "for i in range(10000):\n",
        "    num = int(input(\"Digite um número: \"))\n",
        "    if num != -1:\n",
        "        soma+=1\n",
        "    else:\n",
        "        break\n",
        "print(\"Total de números digitados:\",soma)"
      ],
      "metadata": {
        "id": "WLz8IHODJaC-"
      },
      "execution_count": null,
      "outputs": []
    },
    {
      "cell_type": "markdown",
      "source": [
        "Reflita sobre como percorrer as letras de uma palavra ao contrário?  "
      ],
      "metadata": {
        "id": "K1OLx983J4tH"
      }
    },
    {
      "cell_type": "code",
      "source": [
        "palavra = str(input(\"digite uma palavra: \"))\n",
        "list_palavra = list(palavra)\n",
        "print(list_palavra)\n",
        "n=len(list_palavra)-1                  # imprimir a palavra digitada ao contrário\n",
        "for i in range(len(list_palavra)) :\n",
        "  print(list_palavra[n])\n",
        "  n-=1"
      ],
      "metadata": {
        "id": "SNOW905QJ5aC"
      },
      "execution_count": null,
      "outputs": []
    },
    {
      "cell_type": "code",
      "source": [
        "palavra = str(input(\"digite uma palavra: \"))\n",
        "\n",
        "for i in range(len(palavra)-1,-1,-1) :\n",
        "  print(palavra[i])\n",
        " "
      ],
      "metadata": {
        "id": "t-kQyMEDWyvy"
      },
      "execution_count": null,
      "outputs": []
    },
    {
      "cell_type": "markdown",
      "source": [
        "Ou como verificar quais números são pares dentro de vários digitados?"
      ],
      "metadata": {
        "id": "xoYCacFWLT_P"
      }
    },
    {
      "cell_type": "code",
      "source": [
        "for i in range(10000) : \n",
        "  num = int(input(\"digite um número para verificar se é par ou impar: \"))  #digite 0 para parar\n",
        "  if num!=0 :\n",
        "    if num%2==0 :\n",
        "      print(\"PAR\")\n",
        "    else :\n",
        "      print(\"IMPAR\")\n",
        "  else :\n",
        "    break"
      ],
      "metadata": {
        "id": "Pja8VgbtLUfk"
      },
      "execution_count": null,
      "outputs": []
    },
    {
      "cell_type": "markdown",
      "source": [
        "Também veja o que os seguintes programas fazem e questione-se sobre a possibilidade de você poder melhora-los (Qual seria o significado de melhorar um programa?)."
      ],
      "metadata": {
        "id": "VUB5hpbgM6Ok"
      }
    },
    {
      "cell_type": "code",
      "source": [
        "soma = 0\n",
        "print(\"Os números a seguir serão somados e o total será exibido.\")\n",
        "quant = int(input(\"Quantos números você deseja digitar: \"))\n",
        "for i in range(quant):\n",
        "    soma+=int(input(\"Digite um número: \"))\n",
        "print(\"A soma é: \")\n",
        "print(soma)"
      ],
      "metadata": {
        "id": "MtIogiMtM8B-"
      },
      "execution_count": null,
      "outputs": []
    },
    {
      "cell_type": "code",
      "source": [
        "soma = 0\n",
        "print(\"Todos os números inteiros de 1 até o número que você digitar serão somados.\")\n",
        "quant = int(input(\"Digite até qual número será feita a soma\"))\n",
        "for i in range(quant+1):\n",
        "    soma+=i\n",
        "print(\"A soma é: \")\n",
        "print(soma)"
      ],
      "metadata": {
        "id": "LbDFbqKiPWOv"
      },
      "execution_count": null,
      "outputs": []
    },
    {
      "cell_type": "code",
      "source": [
        "import math\n",
        "\n",
        "soma = 0\n",
        "print(\"Todos os números inteiros de 1 até o número que você digitar serão somados.\")\n",
        "quant = int(input(\"Digite até qual número será feita a soma: \"))\n",
        "soma = (quant+1)*quant/2         #soma todos os valores de 1 até o digito\n",
        "fatorial = math.factorial(quant)  #fatorial do número\n",
        "print(\"A soma é: \")\n",
        "print(soma, fatorial)\n"
      ],
      "metadata": {
        "id": "ufHLu51BPlOw"
      },
      "execution_count": null,
      "outputs": []
    },
    {
      "cell_type": "code",
      "source": [
        "quant = int(input(\"Quantos números serão digitados? \"))\n",
        "for i in range(quant):\n",
        "    num = int(input(\"Digite um número: \"))\n",
        "    if i==0:\n",
        "        maximo = num\n",
        "        minimo = num\n",
        "    if num > maximo:\n",
        "        maximo = num\n",
        "    if num < minimo:\n",
        "        minimo = num\n",
        "print(\"O maior número digitado foi: \")\n",
        "print(maximo)\n",
        "print(\"O menor número digitado foi: \")\n",
        "print(minimo)"
      ],
      "metadata": {
        "id": "4HK2TkvkRGbt"
      },
      "execution_count": null,
      "outputs": []
    }
  ]
}