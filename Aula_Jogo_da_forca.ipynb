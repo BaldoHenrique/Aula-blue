{
  "nbformat": 4,
  "nbformat_minor": 0,
  "metadata": {
    "colab": {
      "name": "Aula - Jogo da forca",
      "provenance": [],
      "collapsed_sections": [],
      "authorship_tag": "ABX9TyMc86BeGfrxvrCiqoRL4gJh",
      "include_colab_link": true
    },
    "kernelspec": {
      "name": "python3",
      "display_name": "Python 3"
    },
    "language_info": {
      "name": "python"
    }
  },
  "cells": [
    {
      "cell_type": "markdown",
      "metadata": {
        "id": "view-in-github",
        "colab_type": "text"
      },
      "source": [
        "<a href=\"https://colab.research.google.com/github/BaldoHenrique/Aula-blue/blob/main/Aula_Jogo_da_forca.ipynb\" target=\"_parent\"><img src=\"https://colab.research.google.com/assets/colab-badge.svg\" alt=\"Open In Colab\"/></a>"
      ]
    },
    {
      "cell_type": "code",
      "source": [
        "pip install Unidecode"
      ],
      "metadata": {
        "colab": {
          "base_uri": "https://localhost:8080/"
        },
        "id": "8WKluDgQ3RU4",
        "outputId": "1339c627-1120-49ab-aa9c-79e4aa85bc0a"
      },
      "execution_count": null,
      "outputs": [
        {
          "output_type": "stream",
          "name": "stdout",
          "text": [
            "Collecting Unidecode\n",
            "  Downloading Unidecode-1.3.4-py3-none-any.whl (235 kB)\n",
            "\u001b[?25l\r\u001b[K     |█▍                              | 10 kB 25.6 MB/s eta 0:00:01\r\u001b[K     |██▉                             | 20 kB 29.3 MB/s eta 0:00:01\r\u001b[K     |████▏                           | 30 kB 16.9 MB/s eta 0:00:01\r\u001b[K     |█████▋                          | 40 kB 6.3 MB/s eta 0:00:01\r\u001b[K     |███████                         | 51 kB 5.2 MB/s eta 0:00:01\r\u001b[K     |████████▍                       | 61 kB 6.1 MB/s eta 0:00:01\r\u001b[K     |█████████▊                      | 71 kB 6.9 MB/s eta 0:00:01\r\u001b[K     |███████████▏                    | 81 kB 5.5 MB/s eta 0:00:01\r\u001b[K     |████████████▌                   | 92 kB 6.1 MB/s eta 0:00:01\r\u001b[K     |██████████████                  | 102 kB 6.7 MB/s eta 0:00:01\r\u001b[K     |███████████████▎                | 112 kB 6.7 MB/s eta 0:00:01\r\u001b[K     |████████████████▊               | 122 kB 6.7 MB/s eta 0:00:01\r\u001b[K     |██████████████████              | 133 kB 6.7 MB/s eta 0:00:01\r\u001b[K     |███████████████████▌            | 143 kB 6.7 MB/s eta 0:00:01\r\u001b[K     |████████████████████▉           | 153 kB 6.7 MB/s eta 0:00:01\r\u001b[K     |██████████████████████▎         | 163 kB 6.7 MB/s eta 0:00:01\r\u001b[K     |███████████████████████▋        | 174 kB 6.7 MB/s eta 0:00:01\r\u001b[K     |█████████████████████████       | 184 kB 6.7 MB/s eta 0:00:01\r\u001b[K     |██████████████████████████▍     | 194 kB 6.7 MB/s eta 0:00:01\r\u001b[K     |███████████████████████████▉    | 204 kB 6.7 MB/s eta 0:00:01\r\u001b[K     |█████████████████████████████▏  | 215 kB 6.7 MB/s eta 0:00:01\r\u001b[K     |██████████████████████████████▋ | 225 kB 6.7 MB/s eta 0:00:01\r\u001b[K     |████████████████████████████████| 235 kB 6.7 MB/s eta 0:00:01\r\u001b[K     |████████████████████████████████| 235 kB 6.7 MB/s \n",
            "\u001b[?25hInstalling collected packages: Unidecode\n",
            "Successfully installed Unidecode-1.3.4\n"
          ]
        }
      ]
    },
    {
      "cell_type": "markdown",
      "source": [
        "#Aula - Jogo da forca"
      ],
      "metadata": {
        "id": "Ys50OOlB0fDK"
      }
    },
    {
      "cell_type": "markdown",
      "source": [
        "Faça um jogo da forca no qual haja uma lista de palavras disponível no código e que sejam utilizadas no jogo. Em vez do bonequinho tendo os membros preenchidos, utilize a palavra \"FORCA\", para indicar que o usuário errou na escolha da letra."
      ],
      "metadata": {
        "id": "Aw49UX9ZA7yE"
      }
    },
    {
      "cell_type": "markdown",
      "source": [
        "Melhore o jogo da forca fazendo com que o usuário possa submeter uma lista de palavras a partir de um arquivo externo."
      ],
      "metadata": {
        "id": "RJUeVwybBAcd"
      }
    },
    {
      "cell_type": "code",
      "execution_count": null,
      "metadata": {
        "id": "PM_Gmi4dA67n"
      },
      "outputs": [],
      "source": [
        "import random\n",
        "import unidecode\n",
        "\n",
        "\n",
        "forca = 0\n",
        "forca_lista = []\n",
        "palavra_jogo = []\n",
        "lista_palavras = [\"abelha\",\"andorinha\",\"babuíno\",\"baleia\",\"cachorro\",\"camaleão\"]\n",
        "palavra = random.choice(lista_palavras)\n",
        "lista_palavra = list(palavra)\n",
        "print(lista_palavra)\n",
        "acento = list(unidecode.unidecode(palavra))\n",
        "print(acento)\n",
        "for index in range(len(lista_palavra)) :\n",
        "  palavra_jogo.append(\"_\")\n",
        "print(palavra_jogo)\n",
        "while forca<5 :\n",
        "  user_letra = str(input(\"Digite uma letra: \"))\n",
        "  if user_letra in acento:\n",
        "    print(\"essa letra tem\")\n",
        "    for index in range(len(lista_palavra)) :\n",
        "      if user_letra==acento[index]:\n",
        "        palavra_jogo.pop(index)\n",
        "        palavra_jogo.insert(index,lista_palavra[index])\n",
        "    print(palavra_jogo)\n",
        "    if palavra_jogo == lista_palavra :\n",
        "      print(\"Parabéns, você ganhou!!\")\n",
        "      break   \n",
        "  else:\n",
        "    print(\"FORCA\")\n",
        "    forca += 1\n",
        "  forca_lista.append(user_letra)\n",
        "  print(\"Forca:\",forca,\"/5 - Letras:\",forca_lista)\n",
        "if forca == 5 :\n",
        "  print(\"PERDEU, você foi enforcado!\")"
      ]
    }
  ]
}