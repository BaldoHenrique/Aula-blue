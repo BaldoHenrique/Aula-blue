{
  "nbformat": 4,
  "nbformat_minor": 0,
  "metadata": {
    "colab": {
      "name": "Exercícios - Pandas",
      "provenance": [],
      "collapsed_sections": [],
      "authorship_tag": "ABX9TyOKqGlBBpiwX5+dPn28Lex8",
      "include_colab_link": true
    },
    "kernelspec": {
      "name": "python3",
      "display_name": "Python 3"
    },
    "language_info": {
      "name": "python"
    }
  },
  "cells": [
    {
      "cell_type": "markdown",
      "metadata": {
        "id": "view-in-github",
        "colab_type": "text"
      },
      "source": [
        "<a href=\"https://colab.research.google.com/github/BaldoHenrique/Aula-blue/blob/main/Exerc%C3%ADcios_Pandas.ipynb\" target=\"_parent\"><img src=\"https://colab.research.google.com/assets/colab-badge.svg\" alt=\"Open In Colab\"/></a>"
      ]
    },
    {
      "cell_type": "markdown",
      "source": [
        "1 - Faça a importação do módulo Pandas"
      ],
      "metadata": {
        "id": "4nVb6Lhd12ZT"
      }
    },
    {
      "cell_type": "code",
      "execution_count": null,
      "metadata": {
        "id": "phMV3fugq_2A"
      },
      "outputs": [],
      "source": [
        "import pandas as pd"
      ]
    },
    {
      "cell_type": "markdown",
      "source": [
        "2 - Crie um Dataframe com as séries: Nome, Idade, prato favorito. Preencha com seus dados e da sua família(TURMA). Fique a vontade para adicionar novas colunas."
      ],
      "metadata": {
        "id": "z9nKoLkT17iM"
      }
    },
    {
      "cell_type": "code",
      "source": [
        "df = pd.read_csv(\"dados_tratados_1.csv\")"
      ],
      "metadata": {
        "id": "DkB5_9jf0c5d"
      },
      "execution_count": null,
      "outputs": []
    },
    {
      "cell_type": "code",
      "source": [
        "df.head()"
      ],
      "metadata": {
        "id": "XtuP02tc0149"
      },
      "execution_count": null,
      "outputs": []
    },
    {
      "cell_type": "code",
      "source": [
        "df.describe()"
      ],
      "metadata": {
        "id": "RbCuRHjf09MV"
      },
      "execution_count": null,
      "outputs": []
    },
    {
      "cell_type": "markdown",
      "source": [
        "3 - Qual a idade média da sua família?\n",
        "4 - Qual a maior e a menor idade de sua família?"
      ],
      "metadata": {
        "id": "4mhbw8822A1C"
      }
    },
    {
      "cell_type": "code",
      "source": [
        "idade_media = round(df[\"idade\"].mean(),2)\n",
        "idade_maior = df[\"idade\"].max()\n",
        "idade_menor = df[\"idade\"].min()\n",
        "print(\"idades: média:\",idade_media, \"maior:\", idade_maior, \"menor:\",idade_menor)"
      ],
      "metadata": {
        "id": "MvBzSIlB1Fk5"
      },
      "execution_count": null,
      "outputs": []
    },
    {
      "cell_type": "markdown",
      "source": [
        "5 - Faça uma pesquina na internet e busque os seguintes dados:\n",
        "Nome dos estados brasileiros;\n",
        "Sigla dos estados;\n",
        "Região;\n",
        "Capital;\n",
        "Polulação."
      ],
      "metadata": {
        "id": "dwHilPgC2Iq-"
      }
    },
    {
      "cell_type": "code",
      "source": [
        "Geografia = {\"estados\":[\"Rio Grande do Sul\", \"São Paulo\", \"Minas Gerais\", \"Bahia\"],\n",
        "             \"sigla\":[\"RS\",\"SP\",\"MG\",\"BA\"],\"regiao\":[\"sul\",\"sudeste\", \"sudeste\",\"nordeste\"],\n",
        "             \"capital\":[\"Porto Alegre\",\"São Paulo\",\"Belo Horizonte\", \"Salvador\"],\n",
        "             \"população(bi)\":[11.29,44.04,20.87,15.13],\n",
        "             \"temperatura\":[5,8,6,2]}"
      ],
      "metadata": {
        "id": "2Gy7z_0O2IZH"
      },
      "execution_count": null,
      "outputs": []
    },
    {
      "cell_type": "markdown",
      "source": [
        "6 - Adicione estas informações em um Datafrane;"
      ],
      "metadata": {
        "id": "IvGMAlnT4Vl8"
      }
    },
    {
      "cell_type": "code",
      "source": [
        "df2 = pd.DataFrame(Geografia)\n",
        "df2"
      ],
      "metadata": {
        "id": "5ksB6fWqDx23"
      },
      "execution_count": null,
      "outputs": []
    },
    {
      "cell_type": "markdown",
      "source": [
        "Criei um Excel com mais variáveis"
      ],
      "metadata": {
        "id": "OumVUwR3D-B-"
      }
    },
    {
      "cell_type": "code",
      "source": [
        "df2 = pd.read_excel('dados_aula17_exercicios.xlsx')"
      ],
      "metadata": {
        "id": "vVU2dGn74JZ7"
      },
      "execution_count": null,
      "outputs": []
    },
    {
      "cell_type": "code",
      "source": [
        "df2.head()"
      ],
      "metadata": {
        "id": "l1eM2h944Nth"
      },
      "execution_count": null,
      "outputs": []
    },
    {
      "cell_type": "code",
      "source": [
        "df2.info()"
      ],
      "metadata": {
        "id": "2r-PfK0DEpD3"
      },
      "execution_count": null,
      "outputs": []
    },
    {
      "cell_type": "code",
      "source": [
        "df2.loc[:,'Estados':'Capital']      #chama de uma coluna até a outra"
      ],
      "metadata": {
        "id": "7gqwfD5aCwe4"
      },
      "execution_count": null,
      "outputs": []
    },
    {
      "cell_type": "markdown",
      "source": [
        "7 - Exiba na tela apenas a sigla e a população;"
      ],
      "metadata": {
        "id": "dk-H4ggc4ajC"
      }
    },
    {
      "cell_type": "code",
      "source": [
        "df2[['Sigla','População']]   #chamar duas colunas quaisquer"
      ],
      "metadata": {
        "id": "PLgvQhbb4Zrp"
      },
      "execution_count": null,
      "outputs": []
    },
    {
      "cell_type": "markdown",
      "source": [
        "8 - Qual o estado com a maior população?"
      ],
      "metadata": {
        "id": "uaHc4v1q-03X"
      }
    },
    {
      "cell_type": "code",
      "source": [
        "pop_max_estado = df2.loc[df2['População'].idxmax(),'Estados']   #retorna somente  estado\n",
        "pop_max_estado"
      ],
      "metadata": {
        "id": "Zw4kSE-d2jsn"
      },
      "execution_count": null,
      "outputs": []
    },
    {
      "cell_type": "code",
      "source": [
        "pop_idxmax = df2['População'].idxmax()\n",
        "df2.loc[pop_idxmax,['Estados','População']]      #mostra o estado e a população"
      ],
      "metadata": {
        "id": "3whhRnxGKYEJ"
      },
      "execution_count": null,
      "outputs": []
    },
    {
      "cell_type": "code",
      "source": [
        "df2.loc[pop_idxmax:pop_idxmax,['Estados','População']]  #mostra como tabela"
      ],
      "metadata": {
        "id": "tmuSG46sp5en"
      },
      "execution_count": null,
      "outputs": []
    },
    {
      "cell_type": "markdown",
      "source": [
        "9 - Qual a quantidade de estados?"
      ],
      "metadata": {
        "id": "BEZUk3yDRzYm"
      }
    },
    {
      "cell_type": "code",
      "source": [
        "print(\"total de estados: \", len(df2[\"Estados\"]))"
      ],
      "metadata": {
        "id": "0_YYO2fpR3lL"
      },
      "execution_count": null,
      "outputs": []
    },
    {
      "cell_type": "markdown",
      "source": [
        "10 - Crie novos Dataframes a partir do conjunto principal. Crie um Dataframe para cada uma das regiões."
      ],
      "metadata": {
        "id": "tVxY2gE-SKqu"
      }
    },
    {
      "cell_type": "code",
      "source": [
        "df2.head(2)"
      ],
      "metadata": {
        "id": "1E3T7eK9Rj1x"
      },
      "execution_count": null,
      "outputs": []
    },
    {
      "cell_type": "code",
      "source": [
        "filtro_sul = df2[\"Região\"] == \"Sul\"\n",
        "df2[filtro_sul]"
      ],
      "metadata": {
        "id": "uoHz4lEic3lz"
      },
      "execution_count": null,
      "outputs": []
    },
    {
      "cell_type": "code",
      "source": [
        "filtro_norte = df2[\"Região\"] == \"Norte\"\n",
        "df2[filtro_norte]"
      ],
      "metadata": {
        "id": "gmh6CO2mdNe8"
      },
      "execution_count": null,
      "outputs": []
    },
    {
      "cell_type": "code",
      "source": [
        "filtro_sudeste = df2[\"Região\"] == \"Sudeste\"\n",
        "df2[filtro_sudeste]"
      ],
      "metadata": {
        "id": "DpG3DM7NR9M_"
      },
      "execution_count": null,
      "outputs": []
    },
    {
      "cell_type": "code",
      "source": [
        "filtro_nordeste= df2[\"Região\"] == \"Nordeste\"\n",
        "df2[filtro_nordeste]"
      ],
      "metadata": {
        "id": "n2tYHKORSHh0"
      },
      "execution_count": null,
      "outputs": []
    },
    {
      "cell_type": "code",
      "source": [
        "filtro_centrooeste = df2[\"Região\"] == \"Centro-Oeste\"\n",
        "df2[filtro_centrooeste]"
      ],
      "metadata": {
        "id": "3lhQrGlwSPJk"
      },
      "execution_count": null,
      "outputs": []
    },
    {
      "cell_type": "markdown",
      "source": [
        "11 - Quantidade de estados por região?"
      ],
      "metadata": {
        "id": "TKITC6nYSnBW"
      }
    },
    {
      "cell_type": "code",
      "source": [
        "df2['Região'].value_counts() "
      ],
      "metadata": {
        "id": "xS2TUg2_S1Tb"
      },
      "execution_count": null,
      "outputs": []
    },
    {
      "cell_type": "code",
      "source": [
        "df2['Região'].value_counts()['Norte']  #retorna o valor específico de determinada região"
      ],
      "metadata": {
        "id": "E8D4_DenFPUt"
      },
      "execution_count": null,
      "outputs": []
    },
    {
      "cell_type": "markdown",
      "source": [
        "12 - Polulação total de cada região?"
      ],
      "metadata": {
        "id": "69eKnFQTTon4"
      }
    },
    {
      "cell_type": "code",
      "source": [
        "dic = {'Região': ['Centro-Oeste','Sul','Norte','Nordeste','Sudeste'],\n",
        "       'População': [df2[filtro_centrooeste]['População'].sum(),\n",
        "       df2[filtro_sul]['População'].sum(),\n",
        "       df2[filtro_norte]['População'].sum(),\n",
        "       df2[filtro_nordeste]['População'].sum(),\n",
        "       df2[filtro_sudeste]['População'].sum()]}\n"
      ],
      "metadata": {
        "id": "6S2pvR8qTqAp"
      },
      "execution_count": null,
      "outputs": []
    },
    {
      "cell_type": "code",
      "source": [
        "df2_regiao = pd.DataFrame(dic)"
      ],
      "metadata": {
        "id": "RjirKI6UWje8"
      },
      "execution_count": null,
      "outputs": []
    },
    {
      "cell_type": "code",
      "source": [
        "df2_regiao"
      ],
      "metadata": {
        "id": "jsbPKIi0Xz_L"
      },
      "execution_count": null,
      "outputs": []
    },
    {
      "cell_type": "markdown",
      "source": [
        "13 - Qual região com a maior população?"
      ],
      "metadata": {
        "id": "3TGRwvqxUP1g"
      }
    },
    {
      "cell_type": "code",
      "source": [
        "max_pop_reg = df2_regiao.loc[df2_regiao['População'].idxmax(),\"Região\"]\n",
        "max_pop_reg"
      ],
      "metadata": {
        "id": "iPUmY0KfUufx"
      },
      "execution_count": null,
      "outputs": []
    },
    {
      "cell_type": "markdown",
      "source": [
        "14 - Qual a regiçao com a menor população?"
      ],
      "metadata": {
        "id": "6kgEXWgRYBLw"
      }
    },
    {
      "cell_type": "code",
      "source": [
        "min_pop_reg = df2_regiao.loc[df2_regiao['População'].idxmin(),\"Região\"]\n",
        "min_pop_reg"
      ],
      "metadata": {
        "id": "9spFBDfDYNH5"
      },
      "execution_count": null,
      "outputs": []
    },
    {
      "cell_type": "markdown",
      "source": [
        "15 - Qual a população média de cada região?"
      ],
      "metadata": {
        "id": "Sg10UCiyYOYh"
      }
    },
    {
      "cell_type": "code",
      "source": [
        "df2_regiao.head(2)"
      ],
      "metadata": {
        "id": "Dg3KGb544c5G"
      },
      "execution_count": null,
      "outputs": []
    },
    {
      "cell_type": "code",
      "source": [
        "med_sul = round(df2[filtro_sul]['População'].mean(),0)\n",
        "med_co = round(df2[filtro_centrooeste]['População'].mean(),0)\n",
        "med_su = round(df2[filtro_sudeste]['População'].mean(),0)\n",
        "med_nd = round(df2[filtro_nordeste]['População'].mean(),0)\n",
        "med_nt = round(df2[filtro_norte]['População'].mean(),0)"
      ],
      "metadata": {
        "id": "wbce-nMrYRaS"
      },
      "execution_count": null,
      "outputs": []
    },
    {
      "cell_type": "code",
      "source": [
        "df2_regiao['Media População'] = [med_co,med_sul,med_nt,med_nd,med_su]"
      ],
      "metadata": {
        "id": "4nHjJLIlG34n"
      },
      "execution_count": null,
      "outputs": []
    },
    {
      "cell_type": "code",
      "source": [
        "df2_regiao"
      ],
      "metadata": {
        "id": "QPnZ_kQT5yQ9"
      },
      "execution_count": null,
      "outputs": []
    }
  ]
}