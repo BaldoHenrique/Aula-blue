{
  "nbformat": 4,
  "nbformat_minor": 0,
  "metadata": {
    "colab": {
      "name": "Ano Bissexto",
      "provenance": [],
      "collapsed_sections": [],
      "authorship_tag": "ABX9TyOvRidwV0NCVzIN/0AkkRD5",
      "include_colab_link": true
    },
    "kernelspec": {
      "name": "python3",
      "display_name": "Python 3"
    },
    "language_info": {
      "name": "python"
    }
  },
  "cells": [
    {
      "cell_type": "markdown",
      "metadata": {
        "id": "view-in-github",
        "colab_type": "text"
      },
      "source": [
        "<a href=\"https://colab.research.google.com/github/BaldoHenrique/Aula-blue/blob/main/Ano_Bissexto.ipynb\" target=\"_parent\"><img src=\"https://colab.research.google.com/assets/colab-badge.svg\" alt=\"Open In Colab\"/></a>"
      ]
    },
    {
      "cell_type": "markdown",
      "source": [
        "# EXERCÍCIO DE AULA - Ano Bissexto\n",
        "Fazer um programa que diga se o ano digitado pelo usuário é bissexto ou não"
      ],
      "metadata": {
        "id": "RYVRzwAjZ9d1"
      }
    },
    {
      "cell_type": "code",
      "source": [
        "ano = int(input(\"Digite um ano(ex:2010): \"))\n",
        "\n",
        "if ano > 3000 or ano < 1000:\n",
        "  print('você colocou uma data inválida:', ano)\n",
        "else :\n",
        "  if ano%4==0:\n",
        "    if ano%100!=0 or ano%400==0 :\n",
        "      print(\"Ano bissexto:\", ano)\n",
        "    else :\n",
        "      print(\"Ano NÃO bissexto:\", ano)\n",
        "  else :\n",
        "    if ano%400!=0 : \n",
        "      print(\"Ano NÃO bissexto:\", ano)\n",
        "    else :\n",
        "      print(\"Ano bissexto:\", ano) "
      ],
      "metadata": {
        "id": "XdI8VeGSZ-Xh"
      },
      "execution_count": null,
      "outputs": []
    }
  ]
}