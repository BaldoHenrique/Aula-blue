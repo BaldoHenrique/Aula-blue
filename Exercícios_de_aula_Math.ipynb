{
  "nbformat": 4,
  "nbformat_minor": 0,
  "metadata": {
    "colab": {
      "name": "Exercícios de aula -  Math",
      "provenance": [],
      "collapsed_sections": [],
      "authorship_tag": "ABX9TyORgcDwkm1LSFCRasPf/Kqj",
      "include_colab_link": true
    },
    "kernelspec": {
      "name": "python3",
      "display_name": "Python 3"
    },
    "language_info": {
      "name": "python"
    }
  },
  "cells": [
    {
      "cell_type": "markdown",
      "metadata": {
        "id": "view-in-github",
        "colab_type": "text"
      },
      "source": [
        "<a href=\"https://colab.research.google.com/github/BaldoHenrique/Aula-blue/blob/main/Exerc%C3%ADcios_de_aula_Math.ipynb\" target=\"_parent\"><img src=\"https://colab.research.google.com/assets/colab-badge.svg\" alt=\"Open In Colab\"/></a>"
      ]
    },
    {
      "cell_type": "markdown",
      "source": [
        "#Exercícios de aula -  Math"
      ],
      "metadata": {
        "id": "VAiCSHNiRHy_"
      }
    },
    {
      "cell_type": "markdown",
      "source": [
        "Usando os números 2 ou 3 e as operações + ou *, exiba os números 6, 7, 8, 10, 12, 15, 20 e 50. (por exemplo, 6 é o resultado de 2 + 2 + 2, ou 2 * 3, agora faça para os outros números)"
      ],
      "metadata": {
        "id": "OtSUVyocE6zq"
      }
    },
    {
      "cell_type": "code",
      "source": [
        "a6 = 2*3\n",
        "a7 = 2*2 + 3\n",
        "a8 = 2*2*2\n",
        "a10 = 2*3 + 2*2\n",
        "a12 = 3*3 + 3\n",
        "a15 = 3*3 + 3*2\n",
        "a20 = 3*3*2 + 2\n",
        "a50 = 3*3*3 + 3 + 2*2*2 + 3*3 +3\n",
        "print(a6, a7, a8, a10, a12, a15, a20, a50)"
      ],
      "metadata": {
        "id": "dDKSVgaoE_Jo"
      },
      "execution_count": null,
      "outputs": []
    },
    {
      "cell_type": "markdown",
      "source": [
        "Usando os números 2 ou 5, as operações - ou * e os parênteses, exiba os números -10, 1, 3, 10, 24, 32, 100, 625"
      ],
      "metadata": {
        "id": "LwcxRt6BGCCR"
      }
    },
    {
      "cell_type": "code",
      "source": [
        "b10n = -5 -5\n",
        "b1 = 5 - 2 - 2\n",
        "b3 = 5 - 2\n",
        "b10 =  2 * 5\n",
        "b24 = 2*5*5  - 2*2*5 - 2*2 -2\n",
        "b32 = 2*5*5 - 2*5 - 2*2*2\n",
        "b100 = 5*5*5 - 5*5\n",
        "b625 = 5*5*5*5\n",
        "print(b10n, b1, b3, b10, b24, b32, b100, b625) \n"
      ],
      "metadata": {
        "id": "YE6uRhm9GDzK"
      },
      "execution_count": null,
      "outputs": []
    },
    {
      "cell_type": "markdown",
      "source": [
        "Usando os números 0, 1 ou 2, as operações / ou * e os parênteses, exiba os números 3, 4, 5, 6, 7, 8, 9, 10."
      ],
      "metadata": {
        "id": "M0_4qzWSH0hO"
      }
    },
    {
      "cell_type": "code",
      "source": [
        "\n",
        "c3 = (100*0.12) / (2*2)\n",
        "c4 = 2*2\n",
        "c5 = (2/2/2)/0.1\n",
        "c6 = (100*0.12) / 2\n",
        "c7 = (100*0.21) / ((100*0.12) / (2*2))\n",
        "c8 = 2*2*2\n",
        "c9 = ((100*0.12) / (2*2)) * ((100*0.12) / (2*2))\n",
        "c10 = (2/2)/0.1\n",
        "print(c3, c4, c5, c6, c7, c8, c9, c10)"
      ],
      "metadata": {
        "id": "fA4m50mtH2sl"
      },
      "execution_count": null,
      "outputs": []
    },
    {
      "cell_type": "markdown",
      "source": [
        "Importando a biblioteca MATH\n",
        " - Descobrir o valor do número especial (numEspecial) e a lógica do comando math.ceil:"
      ],
      "metadata": {
        "id": "BB1y-YCinuCu"
      }
    },
    {
      "cell_type": "code",
      "source": [
        "import math\n",
        "\n",
        "num = 2.3\n",
        "numEspecial = math.ceil(num)  #arredonda o numero para cima (ceil=teto) \n",
        "print(numEspecial)"
      ],
      "metadata": {
        "id": "NMnfWyi5n8z3"
      },
      "execution_count": null,
      "outputs": []
    },
    {
      "cell_type": "markdown",
      "source": [
        "Faça o mesmo que o código anterior, mas com a função math.floor(numEspecial). Procure também entender o que é ceil e floor, em inglês."
      ],
      "metadata": {
        "id": "xcXHoILGoULC"
      }
    },
    {
      "cell_type": "code",
      "source": [
        "num = 2.3\n",
        "numEspecial = math.floor(num) # arredonda o numero para baixo (floor=chão) \n",
        "print(numEspecial)"
      ],
      "metadata": {
        "id": "s3st_38AoX0R"
      },
      "execution_count": null,
      "outputs": []
    },
    {
      "cell_type": "markdown",
      "source": [
        "Veja como utilizar a raiz quadrada e exiba as raízes quadradas de 1, 4, 9, 16, 25, 36, 49, 64, 81 e 100."
      ],
      "metadata": {
        "id": "VwlCmTGKoqkL"
      }
    },
    {
      "cell_type": "code",
      "source": [
        "raiz = math.sqrt(100)\n",
        "print(raiz)\n",
        "potencia = 5 ** 2  # 5²\n",
        "print(potencia)"
      ],
      "metadata": {
        "id": "ELmg9WKjossS"
      },
      "execution_count": null,
      "outputs": []
    },
    {
      "cell_type": "markdown",
      "source": [
        "Constante pi"
      ],
      "metadata": {
        "id": "q-nk-G23ptWL"
      }
    },
    {
      "cell_type": "code",
      "source": [
        "pi = math.pi\n",
        "print(pi)"
      ],
      "metadata": {
        "id": "QaG8a2uZqGWt"
      },
      "execution_count": null,
      "outputs": []
    },
    {
      "cell_type": "markdown",
      "source": [
        "Qual a diferença entre a variável pi do código acima e a novoPi do código abaixo? \n",
        " R:atan é o valor na tangente, em radianos"
      ],
      "metadata": {
        "id": "hkUNd-hbqJvp"
      }
    },
    {
      "cell_type": "code",
      "source": [
        "novoPi = 4 * math.atan(1)\n",
        "print(novoPi)\n",
        "math.atan(1)"
      ],
      "metadata": {
        "id": "v_Gv3nrzqPnc"
      },
      "execution_count": null,
      "outputs": []
    },
    {
      "cell_type": "markdown",
      "source": [
        "Difenrença entre os códigos abaixo:"
      ],
      "metadata": {
        "id": "c5EE0w2fqqds"
      }
    },
    {
      "cell_type": "code",
      "source": [
        "import math\n",
        "pi = math.pi\n",
        "novoPi = 4 * math.atan(1)\n",
        "\n",
        "print(\"Variáveis como definidas\")\n",
        "print(pi)\n",
        "print(novoPi)\n",
        "\n",
        "print(\"Variáveis alteradas\")\n",
        "print(\"%.5f\" % pi)\n",
        "print(\"%.2f\" % novoPi)\n",
        "\n",
        "# Mude o número .2 para outros valores e veja o que acontece.\n",
        "# arredondamento dos numeros"
      ],
      "metadata": {
        "id": "t6_AWxIFqubr"
      },
      "execution_count": null,
      "outputs": []
    },
    {
      "cell_type": "code",
      "source": [
        "import random\n",
        "\n",
        "random.randrange(10) #gera numero de 0 a 9\n",
        "random.randrange(0, 100, 10) # random.randrange(start, stop, step) -> gera numeros entre o Star e o Stop, podendo pular de acordo com o step\n",
        "random.randint(5, 10) # gera numeros entre o 5 e o 10\n",
        "\n",
        "print(random.sample([1, 2, 3, 4, 5], 2)) #gera a quantidade de numeros aleatórios que quiser, entre determinado range "
      ],
      "metadata": {
        "id": "hWi9MZzsqv6p"
      },
      "execution_count": null,
      "outputs": []
    },
    {
      "cell_type": "markdown",
      "source": [
        "Por último, peça ao usuário para digitar dois números num1 e num2 e exiba os seguintes resultados:"
      ],
      "metadata": {
        "id": "JT0nupLWtsdq"
      }
    },
    {
      "cell_type": "code",
      "source": [
        "num1 = int(input(\"digite o primeiro número: \"))\n",
        "num2 = int(input(\"digite o segundo número: \"))\n",
        "n1 = num1 + num2\n",
        "n2 = num1 - num2\n",
        "n3 = num1 * num2\n",
        "n4 = num1 / num2\n",
        "n5 = num1 ** num2 #potencia\n",
        "n6 = num1 % num2  #resto\n",
        "print(\"maior número: \",max(num1,num2))\n",
        "print(n1, n2, n3, n4, n5, n6)\n",
        "\n",
        "print(type(num1))\n",
        "num1 = float(num1)\n",
        "print(type(num1))"
      ],
      "metadata": {
        "id": "7uvJUCtMtt9J"
      },
      "execution_count": null,
      "outputs": []
    }
  ]
}