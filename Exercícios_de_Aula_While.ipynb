{
  "nbformat": 4,
  "nbformat_minor": 0,
  "metadata": {
    "colab": {
      "name": "Exercícios de Aula - While",
      "provenance": [],
      "collapsed_sections": [],
      "authorship_tag": "ABX9TyOAq9+Qhwtdd+nad2lZp0lc",
      "include_colab_link": true
    },
    "kernelspec": {
      "name": "python3",
      "display_name": "Python 3"
    },
    "language_info": {
      "name": "python"
    }
  },
  "cells": [
    {
      "cell_type": "markdown",
      "metadata": {
        "id": "view-in-github",
        "colab_type": "text"
      },
      "source": [
        "<a href=\"https://colab.research.google.com/github/BaldoHenrique/Aula-blue/blob/main/Exerc%C3%ADcios_de_Aula_While.ipynb\" target=\"_parent\"><img src=\"https://colab.research.google.com/assets/colab-badge.svg\" alt=\"Open In Colab\"/></a>"
      ]
    },
    {
      "cell_type": "markdown",
      "source": [
        "#Exercícios de Aula - While"
      ],
      "metadata": {
        "id": "BGmrVyfXn7H_"
      }
    },
    {
      "cell_type": "markdown",
      "source": [
        "O While (\"Enquanto\" em tradução livre) é a estrutura que se repete enquanto algo é verdadeiro. Como no caso dos números a serem registrados, continue armazenando-os enquanto a pessoa digitar números diferente de -1 (ou outro crtiério de parada)."
      ],
      "metadata": {
        "id": "k4o16PF19Dki"
      }
    },
    {
      "cell_type": "code",
      "source": [
        "num = 0\n",
        "cont = 0 #Variável contadora para saber quantos números foram digitados\n",
        "while num != -1: #Enquanto a variável num for diferente de -1\n",
        "  num = int(input(\"Digite um número a ser armazenado: \"))\n",
        "  if num != -1:\n",
        "    cont+=1\n",
        "    print(\"Número registrado\")\n",
        "print(str(cont) +\" números foram digitados.\")"
      ],
      "metadata": {
        "id": "ljgFTMPq9Efw"
      },
      "execution_count": null,
      "outputs": []
    },
    {
      "cell_type": "code",
      "source": [
        "#Veja a figura a ser formada com o seguinte código\n",
        "quant = 0\n",
        "sinal = '*'\n",
        "while quant<11:\n",
        "  print(sinal)\n",
        "  sinal+='*'\n",
        "  quant+=1 #Veja que diferente do for, o while precisa de atenção nas suas variáveis de controle\n",
        "while quant>0:\n",
        "  sinal = sinal[:-1]\n",
        "  print(sinal)\n",
        "  quant-=1 #O que aconteceria se não tivéssemos essa linha? R: iria fazer para sempre o seguindo while\n",
        "  "
      ],
      "metadata": {
        "id": "OSO5wE2c9-Of"
      },
      "execution_count": null,
      "outputs": []
    },
    {
      "cell_type": "code",
      "source": [
        "idade = 0\n",
        "cont = 0\n",
        "while (idade < 120 and idade >= 0):\n",
        "    idade = int(input(\"Digite uma idade a ser registrada: \"))\n",
        "    if (idade < 120 and idade >= 0):\n",
        "      cont+=1\n",
        "print(\"A quantidade de idades digitadas foi de: \" + str(cont))\n",
        "print(\"O registro foi finalizado, pois foi digitada a idade de: \"+str(idade))"
      ],
      "metadata": {
        "id": "d7oGo_Wu-o78"
      },
      "execution_count": null,
      "outputs": []
    }
  ]
}