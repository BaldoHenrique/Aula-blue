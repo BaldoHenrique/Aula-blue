{
  "nbformat": 4,
  "nbformat_minor": 0,
  "metadata": {
    "colab": {
      "name": "Máquina de Refrigerante ",
      "provenance": [],
      "collapsed_sections": [],
      "authorship_tag": "ABX9TyOCqUWcASCg5+TCBZAipFbJ",
      "include_colab_link": true
    },
    "kernelspec": {
      "name": "python3",
      "display_name": "Python 3"
    },
    "language_info": {
      "name": "python"
    }
  },
  "cells": [
    {
      "cell_type": "markdown",
      "metadata": {
        "id": "view-in-github",
        "colab_type": "text"
      },
      "source": [
        "<a href=\"https://colab.research.google.com/github/BaldoHenrique/Aula-blue/blob/main/M%C3%A1quina_de_Refrigerante.ipynb\" target=\"_parent\"><img src=\"https://colab.research.google.com/assets/colab-badge.svg\" alt=\"Open In Colab\"/></a>"
      ]
    },
    {
      "cell_type": "markdown",
      "source": [
        "#Máquina de Refrigerante "
      ],
      "metadata": {
        "id": "iAgNK97kHR8B"
      }
    },
    {
      "cell_type": "markdown",
      "source": [
        "Máquina de Regrigerante: \n",
        "- Cola(r0):10 reais, 5 unidades \n",
        "- guarana(r1):8 reais, 3 unidades  \n",
        "- fanta(r2): 7 reais, 2 unidades\n",
        "- uva(r3): 5 reais, 0 unidades\n",
        "- **Usuário seleciona o refri \n",
        "- se estiver zerado emite uma mensagem \n",
        "- se estiver no estoque \n",
        "- realizar pagamento(pode dar erro) \n",
        "- desconta do estoque \n",
        "- soma o valor no caixa \n",
        "- libera o refri"
      ],
      "metadata": {
        "id": "M8ivoOYoLWap"
      }
    },
    {
      "cell_type": "code",
      "source": [
        "bebidas = {\"r0\":[\"coca\",10,5],\"r1\":[\"guaraná\",8,3],\"r2\":[\"fanta\",7,2],\"r3\":[\"uva\",5,0]}\n",
        "# r:[tipo da bebida,valor da bebida,quantidade em estoque]\n",
        "print(bebidas)"
      ],
      "metadata": {
        "id": "Mazo5CDY5RAE"
      },
      "execution_count": null,
      "outputs": []
    },
    {
      "cell_type": "code",
      "source": [
        "import random\n",
        "caixa = 0\n",
        "parar = 0\n",
        "while parar != 1:\n",
        "  print('Opções disponíveis: (r0(Coca),r1(Guaraná),r2(Fanta),r3(Uva)',)\n",
        "  escolha =input(\"aperte um botão(r0,r1,r2,r3): \")\n",
        "  if escolha in bebidas:\n",
        "    if bebidas[escolha][2] == 0:\n",
        "      print(\"produto em falta, escolha novamente\")\n",
        "    else:\n",
        "      print(\"insira o cartão\")\n",
        "      print('valor do produto selecionado:',bebidas[escolha][1],\"R$\")\n",
        "      aleatório = random.randint(0,9)   #só para ter uma chance de dar erro no cartão\n",
        "      if aleatório > 2:\n",
        "        print(\"Pagamento aceito\")\n",
        "        print(\"pegue a bebida:\", bebidas[escolha][0])\n",
        "        caixa += bebidas[escolha][1]\n",
        "        bebidas[escolha][2] -= 1\n",
        "      else :\n",
        "        print(\"erro no pagamento\")\n",
        "  else:\n",
        "    print(\"você selecionou uma opção invalida\")\n",
        "  print(\"valor em caixa:\",caixa,'R$')\n",
        "  parar = int(input(\"Deseja comprar novamente? Digite 1 para parar \"))\n"
      ],
      "metadata": {
        "id": "ThAL6SYz5248"
      },
      "execution_count": null,
      "outputs": []
    }
  ]
}