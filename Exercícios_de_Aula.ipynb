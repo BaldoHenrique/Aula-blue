{
  "nbformat": 4,
  "nbformat_minor": 0,
  "metadata": {
    "colab": {
      "name": "Exercícios de Aula ",
      "provenance": [],
      "collapsed_sections": [],
      "authorship_tag": "ABX9TyN3iN/qboPsxE5KWSpaDE2L",
      "include_colab_link": true
    },
    "kernelspec": {
      "name": "python3",
      "display_name": "Python 3"
    },
    "language_info": {
      "name": "python"
    }
  },
  "cells": [
    {
      "cell_type": "markdown",
      "metadata": {
        "id": "view-in-github",
        "colab_type": "text"
      },
      "source": [
        "<a href=\"https://colab.research.google.com/github/BaldoHenrique/Aula-blue/blob/main/Exerc%C3%ADcios_de_Aula.ipynb\" target=\"_parent\"><img src=\"https://colab.research.google.com/assets/colab-badge.svg\" alt=\"Open In Colab\"/></a>"
      ]
    },
    {
      "cell_type": "markdown",
      "source": [
        "#Exercícios de Aula "
      ],
      "metadata": {
        "id": "7w0OyHOaolxj"
      }
    },
    {
      "cell_type": "markdown",
      "source": [
        "1 - Peça ao usuário uma palavra e a devolva com as letras ao contrário. Caso a palavra seja a mesma nos dois sentidos, imprima uma mensagem dizendo que é um palíndromo."
      ],
      "metadata": {
        "id": "5B5ULU_beL8m"
      }
    },
    {
      "cell_type": "code",
      "execution_count": null,
      "metadata": {
        "id": "Z0XWnp1ReGPn"
      },
      "outputs": [],
      "source": [
        "a =  str(input(\"Digite uma palavra: \"))\n",
        "b = list(a)\n",
        "\n",
        "palindromo = 0\n",
        "n = len(b)-1\n",
        "for i in range(len(b)) :\n",
        "  if b[n]==b[i] :\n",
        "    palindromo += 1\n",
        "  print(b[n], b[i])\n",
        "  n-=1\n",
        "      \n",
        "if palindromo==len(b):\n",
        "  print(\"essa palavra é um Palíndromo:\", a)\n"
      ]
    },
    {
      "cell_type": "markdown",
      "source": [
        "2 - Peça ao usuário uma palavra, coloque todas as letras em caixa baixa e, depois, cada vogal na palavra deve ser convertido para letra maiúscula."
      ],
      "metadata": {
        "id": "iz1fOK1wg8Ba"
      }
    },
    {
      "cell_type": "code",
      "source": [
        "a =  str(input(\"Digite uma palavra: \").lower())\n",
        "b = list(a)\n",
        "print(\"Todas minusculas:\")\n",
        "for i in range(len(b)) :\n",
        "  print(b[i])\n",
        "print(\"Vogais maiusculas:\")\n",
        "for i in range(len(b)) :\n",
        "  if b[i]==\"a\" or b[i]==\"e\" or b[i]==\"i\" or b[i]==\"o\" or b[i]==\"u\" :\n",
        "    print(b[i].upper())\n",
        "  else :\n",
        "    print(b[i])"
      ],
      "metadata": {
        "id": "oAPhd_o2hVnP"
      },
      "execution_count": null,
      "outputs": []
    },
    {
      "cell_type": "markdown",
      "source": [
        "3 - Peça ao usuário uma palavra e exiba três mensagens, na primeira deve conter todas as letras digitadas na palavra, na segunda todos os números e na terceira o que não for nem letra e nem número."
      ],
      "metadata": {
        "id": "Ms1DDVMzkOKQ"
      }
    },
    {
      "cell_type": "code",
      "source": [
        "a =  str(input(\"Digite uma palavra: \").lower())\n",
        "b = list(a)\n",
        "print(\"Somente letras:\")\n",
        "for i in range(len(b)):\n",
        "  if b[i].isalpha() == True:\n",
        "    print(b[i], end='')\n",
        "\n",
        "print(\"\\nSomente números:\")\n",
        "for i in range(len(b)):\n",
        "  if b[i].isnumeric() == True:\n",
        "    print(b[i], end='')\n",
        "\n",
        "print(\"\\nO que não for letra ou número:\")\n",
        "for i in range(len(b)):\n",
        "  if b[i].isalpha() == False and b[i].isnumeric() == False :\n",
        "    print(b[i], end='')\n",
        "\n"
      ],
      "metadata": {
        "id": "RL34niHokPdE"
      },
      "execution_count": null,
      "outputs": []
    },
    {
      "cell_type": "markdown",
      "source": [
        "4 - Pergunte ao usuário quantos números serão digitados, depois exiba a soma deles, a média, o menor, o maior, quantos números pares e quantos números ímpares foram digitados. Utilize o 0 como critério de parada."
      ],
      "metadata": {
        "id": "M04c7QblKSy7"
      }
    },
    {
      "cell_type": "code",
      "source": [
        "ndigitos = int(input(\"Digite quantos números você quer digitar: \"))\n",
        "\n",
        "soma = 0\n",
        "cont = 0\n",
        "par = 0\n",
        "impar = 0\n",
        "for i in range(ndigitos) :\n",
        "  n = int(input(\"Digite um número: \"))\n",
        "  if n == 0:\n",
        "    print(\"Você digitou 0, parou o programa!!\")\n",
        "    break\n",
        "  else :\n",
        "    soma += n\n",
        "    cont += 1\n",
        "    if i == 0 :\n",
        "      max = n\n",
        "      min = n\n",
        "    if n > max :\n",
        "      max = n\n",
        "    if n < min :\n",
        "      min = n\n",
        "    if n%2 == 0:\n",
        "      par += 1\n",
        "    else :\n",
        "      impar += 1\n",
        "\n",
        "media = soma/cont\n",
        "print(\"Soma:\",soma)\n",
        "print(\"Média:\",media)\n",
        "print(\"Maior número:\",max)\n",
        "print(\"Menor número:\",min)\n",
        "print(\"Números pares:\",par)\n",
        "print(\"Números impares:\",impar)    "
      ],
      "metadata": {
        "id": "jQGRmcm8MwFs"
      },
      "execution_count": null,
      "outputs": []
    },
    {
      "cell_type": "markdown",
      "source": [
        "5 - Peça um programa que o usuário deve digitar um número par e caso seja digitado um número ímpar, o programa deve repetir o pedido. Quando o número par for digitado, exiba a seguinte mensagem: Tarefa concluída."
      ],
      "metadata": {
        "id": "T3t3YLtnPxDn"
      }
    },
    {
      "cell_type": "code",
      "source": [
        "teste = 1\n",
        "while teste == 1 :\n",
        "  n = int(input(\"Digite um número par: \"))\n",
        "  if n%2==0 :\n",
        "    print(\"Tarefa Concluida, número:\",n)\n",
        "    teste = 0 \n",
        "  else :\n",
        "    print(\"Você não digitou um número par, digite novamente!\")"
      ],
      "metadata": {
        "id": "5J1x0q19P1Zc"
      },
      "execution_count": null,
      "outputs": []
    },
    {
      "cell_type": "markdown",
      "source": [
        "6 - Escreva um programa que liste todos os números de -100 a 100 (com os extremos incluídos) e que todo múltiplo de 3 e 4 seja substituído pela palavra Aqui."
      ],
      "metadata": {
        "id": "5msBg1TiTahS"
      }
    },
    {
      "cell_type": "code",
      "source": [
        "# se for de multiplos de 3 e 4 ao mesmo tempo tem q alterar \"or\" por \"and\"\n",
        "for i in range(-100,101) :  \n",
        "  if i%3 == 0 and i%4==0 :\n",
        "    print(\"Aqui\")\n",
        "  else :\n",
        "    print(i)"
      ],
      "metadata": {
        "id": "t885Wf6CTjxq"
      },
      "execution_count": null,
      "outputs": []
    },
    {
      "cell_type": "markdown",
      "source": [
        "7 - Escreva um programa que inverta uma palavra. Por exemplo, caso a entrada seja Casa a saída deve ser asaC"
      ],
      "metadata": {
        "id": "A8N1Rv0VWhbh"
      }
    },
    {
      "cell_type": "code",
      "source": [
        "palavra = str(input(\"Digite uma palavra: \"))\n",
        "lista_palavra = list(palavra)\n",
        "a = len(lista_palavra)-1\n",
        "for i in range(len(lista_palavra)) :\n",
        "  print(lista_palavra[a])\n",
        "  a -= 1\n"
      ],
      "metadata": {
        "id": "PznvXtm-WnMW"
      },
      "execution_count": null,
      "outputs": []
    },
    {
      "cell_type": "markdown",
      "source": [
        "Escreva um programa que desenhe o seguinte padrão:\n",
        "* | ** | ***  **** ***** ****** ******* ******** ********* ********** *********** ************ |  *************"
      ],
      "metadata": {
        "id": "3p9gCVCIXdR4"
      }
    },
    {
      "cell_type": "code",
      "source": [
        "num = int(input(\"Digite o número de camadas da árvore: \"))\n",
        "n = num\n",
        "a = \"*\"\n",
        "b = \" \"\n",
        "for i in range(num):\n",
        "  print(n*b,a)   #multiplica o espaço (n*b)\n",
        "  a += \"**\"\n",
        "  n -= 1\n"
      ],
      "metadata": {
        "id": "9k3d9qW-Xflp"
      },
      "execution_count": null,
      "outputs": []
    },
    {
      "cell_type": "markdown",
      "source": [
        "9 - Escreva um programa que dê a tabuada dos números de 1 a 10."
      ],
      "metadata": {
        "id": "N0eOC1mCb9Hi"
      }
    },
    {
      "cell_type": "code",
      "source": [
        "for i in range(1,11):\n",
        "  print(\"tabuada do\",i)\n",
        "  for n in range(1,11):\n",
        "    print(i*n)"
      ],
      "metadata": {
        "id": "LYC9Iey3cAo7"
      },
      "execution_count": null,
      "outputs": []
    },
    {
      "cell_type": "markdown",
      "source": [
        "10 - Escreva um programa que dado um número de 3 dígitos, a soma do cubo de cada dígito é igual ao próprio número. Por exemplo 1³ + 5³ + 3³ = 153."
      ],
      "metadata": {
        "id": "LWJK56qfegLP"
      }
    },
    {
      "cell_type": "code",
      "source": [
        "num = str(input(\"Digite um número de 3 digitos: \"))\n",
        "n = list(num)\n",
        "soma = 0\n",
        "for i in range(3) :\n",
        "  a = int(n[i])**3\n",
        "  soma += a \n",
        "  print(\"Número:\",a, \"Soma:\", soma)\n",
        "  \n",
        "if soma==int(num) :\n",
        "  print(\"Este número atende as condições: número:\", num, \"= soma:\", soma)\n",
        "else:\n",
        "  print(\"Error: Este número não atende as condições\")"
      ],
      "metadata": {
        "id": "sR72YKRhep3Y"
      },
      "execution_count": null,
      "outputs": []
    },
    {
      "cell_type": "code",
      "source": [
        "for n in range(100,1001) :\n",
        "  num = str(n) \n",
        "  num_list = list(num)\n",
        "  # print(num_list)\n",
        "  soma = 0\n",
        "  soma2 = 0   # para testar se o programa esta correto\n",
        "  for i in range(3) :\n",
        "    a = int(num_list[i])**3\n",
        "    soma += a \n",
        "    # print(\"Número:\",a, \"Soma:\", soma)\n",
        "  if soma==n :\n",
        "    print(\"Este número atende as condições: número:\", n, \"= soma:\", soma)\n",
        "    for i in range(3) :\n",
        "      a = int(num_list[i])**3\n",
        "      soma2 += a \n",
        "      print(\"Número:\",a, \"Soma:\", soma2)\n",
        "  \n",
        " "
      ],
      "metadata": {
        "id": "f3sZPZx3h6G7"
      },
      "execution_count": null,
      "outputs": []
    },
    {
      "cell_type": "markdown",
      "source": [
        "11 - Escreva um programa que dado um número de 4 dígitos, a soma dos dígitos após serem elevados à quarta potência totalizará o próprio número.\n",
        "Por exemplo 1634 = 1 ** 4 + 6 ** 4 + 3 ** 4 + 4 ** 4"
      ],
      "metadata": {
        "id": "2uLHoZbmh8Bn"
      }
    },
    {
      "cell_type": "code",
      "source": [
        "for n in range(1000,10000) :\n",
        "  num = str(n) \n",
        "  num_list = list(num)\n",
        "  # print(num_list)\n",
        "  soma = 0\n",
        "  soma2 = 0\n",
        "  for i in range(4) :\n",
        "    a = int(num_list[i])**4\n",
        "    soma += a \n",
        "    # print(\"Número:\",a, \"Soma:\", soma)\n",
        "  if soma==n :\n",
        "    print(\"Este número atende as condições: número:\", n, \"= soma:\", soma)\n",
        "    for i in range(4) :\n",
        "      a = int(num_list[i])**4\n",
        "      soma2 += a \n",
        "      print(\"Número:\",a, \"Soma:\", soma2)"
      ],
      "metadata": {
        "id": "9r8_fbCQh9_a"
      },
      "execution_count": null,
      "outputs": []
    },
    {
      "cell_type": "markdown",
      "source": [
        "12 - Escreva um programa que dado um número de 5 dígitos, a soma dos dígitos após serem elevados à quinta potência totalizará o próprio número.\n",
        "Por exemplo 54748 = 5 ** 5 + 4 ** 5 + 7 ** 5 + 4 ** 5 + 8 ** 5"
      ],
      "metadata": {
        "id": "xxhpO9m35PWx"
      }
    },
    {
      "cell_type": "code",
      "source": [
        "for n in range(10000,100000) :\n",
        "  num = str(n) \n",
        "  num_list = list(num)\n",
        "  # print(num_list)\n",
        "  soma = 0\n",
        "  soma2 = 0\n",
        "  for i in range(5) :\n",
        "    a = int(num_list[i])**5\n",
        "    soma += a \n",
        "    # print(\"Número:\",a, \"Soma:\", soma)\n",
        "  if soma==n :\n",
        "    print(\"Este número atende as condições: número:\", n, \"= soma:\", soma)\n",
        "    for i in range(5) :\n",
        "      a = int(num_list[i])**5\n",
        "      soma2 += a \n",
        "      print(\"Número:\",a, \"Soma:\", soma2)"
      ],
      "metadata": {
        "id": "-ybpdKlT5V0H"
      },
      "execution_count": null,
      "outputs": []
    },
    {
      "cell_type": "markdown",
      "source": [
        "13 - A seguinte sequência 0, 1, 1, 2, 3, 5, 8, ... , conhecida como sequência de Fibonacci, é formada pela seguinte regra: o primeiro termo é 0, o segundo é 1, os próximos serão a soma dos dois anteriores. Escreva um programa que peça ao usuário um termo da sequência de Fibonacci e exiba-o na tela."
      ],
      "metadata": {
        "id": "dXgxHUtY-d5P"
      }
    },
    {
      "cell_type": "code",
      "source": [
        "termo = int(input(\"Diga um tempo da sequência de Fibonacci: \"))\n",
        "\n",
        "t1 = 0\n",
        "t2 = 1\n",
        "for i in range(termo) :\n",
        "  if i == 0 :   # primeira volta do range\n",
        "    ti = t1\n",
        "  elif i == 1 :  # segunda volta do range\n",
        "    ti = t2\n",
        "  else :          # após segunda volta do range\n",
        "    ti = t1+t2\n",
        "    t1=t2\n",
        "    t2=ti\n",
        "  print(ti)  \n",
        "print(\"O valor do termo\",termo,\"é:\",ti)  "
      ],
      "metadata": {
        "id": "xGFjxuci-g-O"
      },
      "execution_count": null,
      "outputs": []
    },
    {
      "cell_type": "markdown",
      "source": [
        "16 - Faça um programa que gere um número de 1 a 10, o usuário deve tentar adivinhar o número gerado, exiba True caso ele tenha acertado e False caso contrário."
      ],
      "metadata": {
        "id": "p_8UZgy1EFiD"
      }
    },
    {
      "cell_type": "code",
      "source": [
        "import random\n",
        "num_user = int(input(\"Digite um número de 1 a 10: \"))\n",
        "num_pc = random.randint(1,10)\n",
        "print(\"user:\",num_user,\" pc:\", num_pc)\n",
        "num_user==num_pc\n",
        "\n"
      ],
      "metadata": {
        "id": "0NGsToPxEPgO"
      },
      "execution_count": null,
      "outputs": []
    }
  ]
}