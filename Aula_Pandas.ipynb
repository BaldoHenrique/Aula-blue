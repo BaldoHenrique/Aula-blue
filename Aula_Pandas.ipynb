{
  "nbformat": 4,
  "nbformat_minor": 0,
  "metadata": {
    "colab": {
      "name": "Aula - Pandas",
      "provenance": [],
      "collapsed_sections": [],
      "authorship_tag": "ABX9TyNPsMlXFOTeYKQslKaiybxd",
      "include_colab_link": true
    },
    "kernelspec": {
      "name": "python3",
      "display_name": "Python 3"
    },
    "language_info": {
      "name": "python"
    }
  },
  "cells": [
    {
      "cell_type": "markdown",
      "metadata": {
        "id": "view-in-github",
        "colab_type": "text"
      },
      "source": [
        "<a href=\"https://colab.research.google.com/github/BaldoHenrique/Aula-blue/blob/main/Aula_Pandas.ipynb\" target=\"_parent\"><img src=\"https://colab.research.google.com/assets/colab-badge.svg\" alt=\"Open In Colab\"/></a>"
      ]
    },
    {
      "cell_type": "markdown",
      "source": [
        "Pandas"
      ],
      "metadata": {
        "id": "SiJSlErUFFs-"
      }
    },
    {
      "cell_type": "code",
      "execution_count": 41,
      "metadata": {
        "id": "ShEU5UbeEyOY"
      },
      "outputs": [],
      "source": [
        "import pandas as pd\n",
        "\n",
        "bebidas = {\"r0\":[\"coca\",10,5],\"r1\":[\"guaraná\",8,3],\"r2\":[\"fanta\",7,2],\"r3\":[\"uva\",5,0]}"
      ]
    },
    {
      "cell_type": "code",
      "source": [
        "df = pd.DataFrame(bebidas)"
      ],
      "metadata": {
        "id": "aJt2RFfIFms9"
      },
      "execution_count": 47,
      "outputs": []
    },
    {
      "cell_type": "code",
      "source": [
        "df.head()               #mostra as 5 primeiras linhas da tabela"
      ],
      "metadata": {
        "id": "Wh5D5bQ3GFUd"
      },
      "execution_count": null,
      "outputs": []
    },
    {
      "cell_type": "code",
      "source": [
        "df.tail()          #mostra as ultimas linhas da tabeala"
      ],
      "metadata": {
        "id": "Z2KR4hPJGe1B"
      },
      "execution_count": null,
      "outputs": []
    },
    {
      "cell_type": "code",
      "source": [
        "df.shape          #tamanho da tabela"
      ],
      "metadata": {
        "id": "qMjTijC_Gr9B"
      },
      "execution_count": null,
      "outputs": []
    },
    {
      "cell_type": "code",
      "source": [
        "estrutura_bebidas = {\"botao\":[\"r0\", \"r1\",\"r2\", \"r3\"],\"nome\":[\"coca\", \"guaraná\",\"fanta\", \"uva\"], \"valor\": [10,8,7,5], \"estoque\":[5,3,2,0]}"
      ],
      "metadata": {
        "id": "Qmf2FIWjHEG2"
      },
      "execution_count": 60,
      "outputs": []
    },
    {
      "cell_type": "code",
      "source": [
        "df2 = pd.DataFrame(estrutura_bebidas)"
      ],
      "metadata": {
        "id": "sS900EO2HoO4"
      },
      "execution_count": 28,
      "outputs": []
    },
    {
      "cell_type": "code",
      "source": [
        "df2.head()"
      ],
      "metadata": {
        "id": "72FWiZQQHyy2"
      },
      "execution_count": null,
      "outputs": []
    },
    {
      "cell_type": "code",
      "source": [
        "df2.info()"
      ],
      "metadata": {
        "id": "mYeuu9CwIJzF"
      },
      "execution_count": null,
      "outputs": []
    },
    {
      "cell_type": "code",
      "source": [
        "df2.describe()"
      ],
      "metadata": {
        "id": "WfiqrTSNIyz_"
      },
      "execution_count": null,
      "outputs": []
    },
    {
      "cell_type": "code",
      "source": [
        "var = {'botao':[],'nome':[], 'valor':[], 'estoque':[]}"
      ],
      "metadata": {
        "id": "5AWQxLHIJ2fk"
      },
      "execution_count": 16,
      "outputs": []
    },
    {
      "cell_type": "code",
      "source": [
        "for chave,valor in bebidas.items():\n",
        "  print(chave) \n",
        "  print(valor)"
      ],
      "metadata": {
        "id": "mQkS2dnuKVdV"
      },
      "execution_count": null,
      "outputs": []
    },
    {
      "cell_type": "code",
      "source": [
        "for chave,valor in bebidas.items():\n",
        "  var[\"botao\"].append(chave)\n",
        "  var[\"nome\"].append(valor[0])\n",
        "  var[\"valor\"].append(valor[1])\n",
        "  var[\"estoque\"].append(valor[2])\n",
        "\n",
        "print(var)"
      ],
      "metadata": {
        "id": "kGDgsH4kKXhi"
      },
      "execution_count": null,
      "outputs": []
    },
    {
      "cell_type": "code",
      "source": [
        "df3 = pd.DataFrame(var)"
      ],
      "metadata": {
        "id": "5UnVqp-9KwlF"
      },
      "execution_count": 19,
      "outputs": []
    },
    {
      "cell_type": "code",
      "source": [
        "df3.head()"
      ],
      "metadata": {
        "id": "dUL7NHjYLAyM"
      },
      "execution_count": null,
      "outputs": []
    },
    {
      "cell_type": "code",
      "source": [
        "df.head()"
      ],
      "metadata": {
        "id": "JNih2ZxkLPpR"
      },
      "execution_count": null,
      "outputs": []
    },
    {
      "cell_type": "code",
      "source": [
        "df = df.T    #transpor a tabela"
      ],
      "metadata": {
        "id": "7fShZQvzLSJo"
      },
      "execution_count": 49,
      "outputs": []
    },
    {
      "cell_type": "code",
      "source": [
        "df.head()"
      ],
      "metadata": {
        "id": "FwLv9JQkNuy4"
      },
      "execution_count": null,
      "outputs": []
    },
    {
      "cell_type": "code",
      "source": [
        "#df = df.reset_index()\n",
        "#df.reset_index(inplace = True)   #torna a variavel, como se tivesse colocando df=...   \n",
        "        "
      ],
      "metadata": {
        "id": "wVaRoagjN8Uy"
      },
      "execution_count": 45,
      "outputs": []
    },
    {
      "cell_type": "code",
      "source": [
        "df.head()"
      ],
      "metadata": {
        "id": "rDtPNBekPQiH"
      },
      "execution_count": null,
      "outputs": []
    },
    {
      "cell_type": "code",
      "source": [
        "df = df.rename(columns = {\"index\":\"botao\",0:\"nome\",1:\"valor\",2:\"estoque\"})\n",
        "df.head()"
      ],
      "metadata": {
        "id": "XbkeJF4QPac8"
      },
      "execution_count": null,
      "outputs": []
    },
    {
      "cell_type": "code",
      "source": [
        "print(type(df[\"nome\"]))"
      ],
      "metadata": {
        "id": "OxPXWoHmP6cV"
      },
      "execution_count": null,
      "outputs": []
    },
    {
      "cell_type": "code",
      "source": [
        "print(type(df[[\"nome\",\"valor\"]]))"
      ],
      "metadata": {
        "id": "oH37Oi4rP_Sg"
      },
      "execution_count": null,
      "outputs": []
    },
    {
      "cell_type": "code",
      "source": [
        "print(type(df[[\"nome\"]]))   #só por causa de mais um conchetes já entende que é um matriz"
      ],
      "metadata": {
        "id": "aB7lEiO6QPiP"
      },
      "execution_count": null,
      "outputs": []
    },
    {
      "cell_type": "code",
      "source": [
        "df[\"valor\"].median()"
      ],
      "metadata": {
        "id": "qr88k5heQX1J"
      },
      "execution_count": null,
      "outputs": []
    },
    {
      "cell_type": "code",
      "source": [
        "df[\"nome\"].value_counts(normalize = True)   #conta quantas linhas estão divididas estas palavras   "
      ],
      "metadata": {
        "id": "Yln72_c4Qrzy"
      },
      "execution_count": null,
      "outputs": []
    },
    {
      "cell_type": "code",
      "source": [
        "df[\"valor\"] > 7"
      ],
      "metadata": {
        "id": "HXkaPfIaQ1wg"
      },
      "execution_count": null,
      "outputs": []
    },
    {
      "cell_type": "code",
      "source": [
        "mask = df[\"valor\"] > 7 # retorna só os verdadeiros"
      ],
      "metadata": {
        "id": "mChH3XZDRCDV"
      },
      "execution_count": 61,
      "outputs": []
    },
    {
      "cell_type": "code",
      "source": [
        "df[mask]"
      ],
      "metadata": {
        "id": "4AT_osEURLtw"
      },
      "execution_count": null,
      "outputs": []
    },
    {
      "cell_type": "code",
      "source": [
        "df.query(\"valor > 7\")"
      ],
      "metadata": {
        "id": "KyxCvbvHRSOu"
      },
      "execution_count": null,
      "outputs": []
    },
    {
      "cell_type": "code",
      "source": [
        "[df[\"valor\"] > 7] and [df[\"estoque\"] > 3]"
      ],
      "metadata": {
        "id": "4BhDerh8RcYv"
      },
      "execution_count": null,
      "outputs": []
    },
    {
      "cell_type": "code",
      "source": [
        "# df = df.drop(\"column_botao\",1)\n",
        "# del df['column_botao']"
      ],
      "metadata": {
        "id": "wbYVgymcXuqg"
      },
      "execution_count": null,
      "outputs": []
    },
    {
      "cell_type": "code",
      "source": [
        "import pandas as pd\n",
        "# pd.read_excel(\"dados.xlsx\")"
      ],
      "metadata": {
        "id": "BTM6yxcgVZS5"
      },
      "execution_count": 65,
      "outputs": []
    },
    {
      "cell_type": "code",
      "source": [
        "df = pd.DataFrame(\n",
        "    {\n",
        "             \"Name\": [\n",
        "            \"Braund, Mr. Owen Harris\",\n",
        "            \"Allen, Mr. William Henry\",\n",
        "            \"Bonnell, Miss. Elizabeth\",\n",
        "        ],\n",
        "        \"Age\": [22, 35, 58],\n",
        "        \"Sex\": [\"male\", \"male\", \"female\"],\n",
        "    }\n",
        ")"
      ],
      "metadata": {
        "id": "V5o9-JY3eOMZ"
      },
      "execution_count": 66,
      "outputs": []
    },
    {
      "cell_type": "code",
      "source": [
        "df.head()"
      ],
      "metadata": {
        "id": "9lJ9T9eqebuq"
      },
      "execution_count": null,
      "outputs": []
    },
    {
      "cell_type": "code",
      "source": [
        "df[\"Age\"]       #seleciona a coluna Age"
      ],
      "metadata": {
        "id": "kCQx4sOYetpx"
      },
      "execution_count": null,
      "outputs": []
    },
    {
      "cell_type": "code",
      "source": [
        "df[\"Age\"].max()      #retorna o maior valor da coluna Age"
      ],
      "metadata": {
        "id": "RExXueWGezsd"
      },
      "execution_count": null,
      "outputs": []
    },
    {
      "cell_type": "code",
      "source": [
        "df.describe()"
      ],
      "metadata": {
        "id": "4Gx1W4IufDUg"
      },
      "execution_count": null,
      "outputs": []
    },
    {
      "cell_type": "code",
      "source": [
        "df.info()"
      ],
      "metadata": {
        "id": "CAogMzVvfKrG"
      },
      "execution_count": null,
      "outputs": []
    },
    {
      "cell_type": "code",
      "source": [
        "df5 = df.append(pd.DataFrame({\"Name\":[\"McCarthy, Mr. Timothy J\",\"Heikkinen, Miss. Laina\"],\"Age\":[54,26],\"Sex\":[\"male\", \"female\"]}))\n",
        " #SEM o ignore index , fica fora de ordem "
      ],
      "metadata": {
        "id": "cjl5R0hml6Rm"
      },
      "execution_count": 70,
      "outputs": []
    },
    {
      "cell_type": "code",
      "source": [
        "df5.head()"
      ],
      "metadata": {
        "id": "vBLSwRtOmGSE"
      },
      "execution_count": null,
      "outputs": []
    },
    {
      "cell_type": "code",
      "source": [
        "df5 = df5.reset_index()    #reseta o index"
      ],
      "metadata": {
        "id": "uuXKfi_xmSSa"
      },
      "execution_count": 72,
      "outputs": []
    },
    {
      "cell_type": "code",
      "source": [
        "df5.head()"
      ],
      "metadata": {
        "id": "Zpm5xFxxmUd0"
      },
      "execution_count": null,
      "outputs": []
    },
    {
      "cell_type": "code",
      "source": [
        "df6 = df.append(pd.DataFrame({\"Name\":[\"McCarthy, Mr. Timothy J\",\"Heikkinen, Miss. Laina\"],\"Age\":[54,26],\"Sex\":[\"male\", \"female\"]}),ignore_index=True)        \n",
        "              #adicionar novas linhas com o IGNORE iNDEX, deixa a tabela em ordem"
      ],
      "metadata": {
        "id": "KJy0lzOCfXOw"
      },
      "execution_count": 74,
      "outputs": []
    },
    {
      "cell_type": "code",
      "source": [
        "df6.head()       # os index ficaram estranhos  "
      ],
      "metadata": {
        "id": "FLUbXUiefjvk"
      },
      "execution_count": null,
      "outputs": []
    },
    {
      "cell_type": "markdown",
      "source": [
        "**Filtrando e tratando os dados**\n",
        "\n",
        "Vamos avançar os estudos?\n",
        "Vamos filtrar os dados, criar novos Dataframes e retornar dados estatísticos.\n",
        "Recordando nosso Dataframe"
      ],
      "metadata": {
        "id": "Ww_gNbZqmcV1"
      }
    },
    {
      "cell_type": "code",
      "source": [
        "df6.head()"
      ],
      "metadata": {
        "id": "-7nlIfKZmatf"
      },
      "execution_count": null,
      "outputs": []
    },
    {
      "cell_type": "markdown",
      "source": [
        "E se quisermos retornar apenas os passageiros do sexo feminino?\n",
        "Que tal iniciarmos criando um filtro?\n",
        "Qual o resultado? Vamos analisar"
      ],
      "metadata": {
        "id": "qR-dW6G9nU4X"
      }
    },
    {
      "cell_type": "code",
      "source": [
        "filtro = df6['Sex'] == 'female'\n",
        "filtro"
      ],
      "metadata": {
        "id": "0hi8UqZjmw8m"
      },
      "execution_count": null,
      "outputs": []
    },
    {
      "cell_type": "markdown",
      "source": [
        "Observa os índices da Série Filtro e compare com os índices do Dataframe. Compare aonde está \"True\" no Series com o df.\n",
        "E aí? Agora melhorou? Faz o exercício, muda o filtro para \"male\" e refaça os passos.\n",
        "Bom. E como é que usaremos este filtro? Agora vem a parte fácil \n",
        "Execute o df com o filtro"
      ],
      "metadata": {
        "id": "0fuvirM-nbso"
      }
    },
    {
      "cell_type": "code",
      "source": [
        "df6_filtrado = df6[filtro]\n",
        "df6_filtrado"
      ],
      "metadata": {
        "id": "jO4x8enBnEkl"
      },
      "execution_count": null,
      "outputs": []
    },
    {
      "cell_type": "markdown",
      "source": [
        "Conhecendo um pouco mais sobre outros métodos.\n",
        "Quantos registros tem em nosso Dataframe?"
      ],
      "metadata": {
        "id": "LLmb7vEinfB_"
      }
    },
    {
      "cell_type": "code",
      "source": [
        "df5.count()"
      ],
      "metadata": {
        "id": "79PWfNpknKSv"
      },
      "execution_count": null,
      "outputs": []
    },
    {
      "cell_type": "markdown",
      "source": [
        "Veja que ele retorna a contagem em cada uma das Séries. E se quisermos uma contagem geral? Podemos aplicar um filtro no index."
      ],
      "metadata": {
        "id": "eJxxw2Yuniwa"
      }
    },
    {
      "cell_type": "code",
      "source": [
        "df5[\"index\"].count   #apliquei o filtro no \"Age\""
      ],
      "metadata": {
        "id": "jUJt8GQ_njJH"
      },
      "execution_count": null,
      "outputs": []
    },
    {
      "cell_type": "markdown",
      "source": [
        "Agora vamos criar novos Dataframes a partir do principal? Com algumas estatísticas!\n",
        "Primeiro filtro do sexo feminino."
      ],
      "metadata": {
        "id": "U381btjCpIZ7"
      }
    },
    {
      "cell_type": "code",
      "source": [
        "filtro = df['Sex'] == 'male'\n",
        "filtro"
      ],
      "metadata": {
        "id": "i2y8flM4pI-z"
      },
      "execution_count": null,
      "outputs": []
    },
    {
      "cell_type": "markdown",
      "source": [
        "Agora vamos criar um Dataframa armazendo os dados de sexo feminino"
      ],
      "metadata": {
        "id": "DDPHTr71pN-t"
      }
    },
    {
      "cell_type": "code",
      "source": [
        "df_male = df[filtro]\n",
        "df_male.head()"
      ],
      "metadata": {
        "id": "ci-Aol3qpOfa"
      },
      "execution_count": null,
      "outputs": []
    },
    {
      "cell_type": "markdown",
      "source": [
        "Qual a idade máxima, mínima e média do sexo feminino?\n",
        "O Pandas já tem os métodos prontos pra gente.\n",
        "Idade máxima"
      ],
      "metadata": {
        "id": "6kgt2lNFpWUU"
      }
    },
    {
      "cell_type": "code",
      "source": [
        "df_male.describe()\n",
        "df_male[\"Age\"].max()\n",
        "df_male[\"Age\"].min()\n",
        "df_male[\"Age\"].mean()"
      ],
      "metadata": {
        "id": "zLkM_wLmpVgk"
      },
      "execution_count": null,
      "outputs": []
    }
  ]
}