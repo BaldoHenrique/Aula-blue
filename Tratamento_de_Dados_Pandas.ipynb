{
  "nbformat": 4,
  "nbformat_minor": 0,
  "metadata": {
    "colab": {
      "name": "Tratamento de Dados - Pandas",
      "provenance": [],
      "collapsed_sections": [],
      "authorship_tag": "ABX9TyP2vNr8Su59X6duEh2XN4rP",
      "include_colab_link": true
    },
    "kernelspec": {
      "name": "python3",
      "display_name": "Python 3"
    },
    "language_info": {
      "name": "python"
    }
  },
  "cells": [
    {
      "cell_type": "markdown",
      "metadata": {
        "id": "view-in-github",
        "colab_type": "text"
      },
      "source": [
        "<a href=\"https://colab.research.google.com/github/BaldoHenrique/Aula-blue/blob/main/Tratamento_de_Dados_Pandas.ipynb\" target=\"_parent\"><img src=\"https://colab.research.google.com/assets/colab-badge.svg\" alt=\"Open In Colab\"/></a>"
      ]
    },
    {
      "cell_type": "markdown",
      "source": [
        "#Inicializando o estudo"
      ],
      "metadata": {
        "id": "mo5jl4kZjUIM"
      }
    },
    {
      "cell_type": "markdown",
      "source": [
        "Importando pandas e lendo a planilha"
      ],
      "metadata": {
        "id": "u3CzaBaHR3Ov"
      }
    },
    {
      "cell_type": "code",
      "execution_count": 24,
      "metadata": {
        "id": "AD95559INXn2"
      },
      "outputs": [],
      "source": [
        "import pandas as pd\n",
        "df = pd.read_excel(\"dados.xlsx\")"
      ]
    },
    {
      "cell_type": "markdown",
      "source": [
        "#Tratando os dados"
      ],
      "metadata": {
        "id": "C2ZQO5QJR9af"
      }
    },
    {
      "cell_type": "markdown",
      "source": [
        "excluir todas a linhas  que são inteiras nulas"
      ],
      "metadata": {
        "id": "RM5TQM1XSGUR"
      }
    },
    {
      "cell_type": "code",
      "source": [
        "df.dropna(how = \"all\")  \n",
        "df = df.dropna(how = \"all\")"
      ],
      "metadata": {
        "id": "-SkM81HfGjN_"
      },
      "execution_count": 25,
      "outputs": []
    },
    {
      "cell_type": "markdown",
      "source": [
        "Alterando os nomes das colunas"
      ],
      "metadata": {
        "id": "PTJf5FLzSOGM"
      }
    },
    {
      "cell_type": "code",
      "source": [
        "df.columns = ['nome','data_nasc', 'localidade', 'time', 'biscoito_bolacha', 'arroz',\n",
        "              'ovo','rodizio', 'coxinha', 'travesseiro', 'catchup', 'nova_coluna']"
      ],
      "metadata": {
        "id": "85coS5HjHr2L"
      },
      "execution_count": 26,
      "outputs": []
    },
    {
      "cell_type": "markdown",
      "source": [
        "Como podem ter sido excluídas algumas linhas, vamos reorganizar os índices"
      ],
      "metadata": {
        "id": "Zm_TfdW_SNEc"
      }
    },
    {
      "cell_type": "code",
      "source": [
        "df = df.reset_index()   \n",
        "df"
      ],
      "metadata": {
        "id": "kEJMlrW4I5gn"
      },
      "execution_count": null,
      "outputs": []
    },
    {
      "cell_type": "markdown",
      "source": [
        "A coluna nova coluna não tem valores que nos interessa, vamos excluir"
      ],
      "metadata": {
        "id": "GpJsYrVoTKS9"
      }
    },
    {
      "cell_type": "code",
      "source": [
        "df = df.drop(columns = ['nova_coluna']) "
      ],
      "metadata": {
        "id": "6xnhnKQrTRTy"
      },
      "execution_count": 28,
      "outputs": []
    },
    {
      "cell_type": "markdown",
      "source": [
        "#Coluna biscoito e bolacha"
      ],
      "metadata": {
        "id": "ApXwCE-sjM-r"
      }
    },
    {
      "cell_type": "markdown",
      "source": [
        "Vamos ver a maneira como foram escritos e e quantidade de cada um"
      ],
      "metadata": {
        "id": "22TfWJSkTs74"
      }
    },
    {
      "cell_type": "code",
      "source": [
        "df['biscoito_bolacha'].value_counts()    "
      ],
      "metadata": {
        "id": "j2vyoO52JTdA"
      },
      "execution_count": null,
      "outputs": []
    },
    {
      "cell_type": "markdown",
      "source": [
        "Como podemos ver, temos que tratar estes valores, foram escritos de diversas maneiras.\n",
        "Vamos colocar todas as letras em maiusculo e checar se funciona, vamos usar uma outra coluna para isso"
      ],
      "metadata": {
        "id": "Hg5gcnB2T1mN"
      }
    },
    {
      "cell_type": "code",
      "source": [
        "df['bb'] = df['biscoito_bolacha'].str.upper()  \n",
        "df['bb'].value_counts()               \n"
      ],
      "metadata": {
        "id": "s302RWvYKcb1"
      },
      "execution_count": null,
      "outputs": []
    },
    {
      "cell_type": "markdown",
      "source": [
        "Vamos descobri qual a posição da palavra q esta com problema"
      ],
      "metadata": {
        "id": "_FKU9CA1UTq_"
      }
    },
    {
      "cell_type": "code",
      "source": [
        "df.loc[:,'bb']    "
      ],
      "metadata": {
        "id": "eSsuH8KhLZV5"
      },
      "execution_count": null,
      "outputs": []
    },
    {
      "cell_type": "markdown",
      "source": [
        "Descobrimos que a palavra no index 2 esta com espaços extras, vamos alterar a string do index 2"
      ],
      "metadata": {
        "id": "aXr5Qj6MUhTl"
      }
    },
    {
      "cell_type": "code",
      "source": [
        "df.loc[2,'bb'] = \"BISCOITO\"  \n",
        "df.loc[:,'bb'] \n",
        "df['bb'].value_counts()"
      ],
      "metadata": {
        "id": "BNHmU3O0M2W2"
      },
      "execution_count": null,
      "outputs": []
    },
    {
      "cell_type": "markdown",
      "source": [
        "Depois de conferir que esta tudo certo, vamos passar as informações da coluna \"bb\" para a coluna 'biscoito_bolacha' e conferir se funcionou"
      ],
      "metadata": {
        "id": "MuiGiaKaU2-e"
      }
    },
    {
      "cell_type": "code",
      "source": [
        "df['biscoito_bolacha'] = df['bb'] \n",
        "df['biscoito_bolacha'].value_counts() "
      ],
      "metadata": {
        "id": "vyJE9rAPLVhY"
      },
      "execution_count": null,
      "outputs": []
    },
    {
      "cell_type": "markdown",
      "source": [
        "Conferindo a tabela completa para seguir para o tratamento de uma próxima coluna"
      ],
      "metadata": {
        "id": "ahcdCwinVXWi"
      }
    },
    {
      "cell_type": "code",
      "source": [
        "df "
      ],
      "metadata": {
        "id": "VYuOYCZsqz_V"
      },
      "execution_count": null,
      "outputs": []
    },
    {
      "cell_type": "markdown",
      "source": [
        "# Coluna arroz"
      ],
      "metadata": {
        "id": "9WXHXIt7jIDt"
      }
    },
    {
      "cell_type": "markdown",
      "source": [
        "Refazendo o que foi feito com a coluna 'biscoito_bolacha'"
      ],
      "metadata": {
        "id": "GOA4e0AVWNiE"
      }
    },
    {
      "cell_type": "code",
      "source": [
        "df['arroz'].value_counts()  "
      ],
      "metadata": {
        "id": "9-vApQjeNGzR"
      },
      "execution_count": null,
      "outputs": []
    },
    {
      "cell_type": "markdown",
      "source": [
        "Neste caso analisamos mais problemas, vamos substituir todos por letras maiusculas e criar uma nova coluna"
      ],
      "metadata": {
        "id": "rRC5xdv4WWEm"
      }
    },
    {
      "cell_type": "code",
      "source": [
        "dic = {'baixo': 'BAIXO','lado':'LADO', 'cima': 'CIMA', 'clado':'LADO'}\n",
        "df['arroz2'] = df['arroz'].map(dic)                     \n"
      ],
      "metadata": {
        "id": "fCrQ1EJQNPGs"
      },
      "execution_count": 36,
      "outputs": []
    },
    {
      "cell_type": "markdown",
      "source": [
        "Vamos comparar uma com a outra"
      ],
      "metadata": {
        "id": "EUm4b4xZX7cQ"
      }
    },
    {
      "cell_type": "code",
      "source": [
        "df[['arroz','arroz2']] "
      ],
      "metadata": {
        "id": "I_UcfWdVXlWh"
      },
      "execution_count": null,
      "outputs": []
    },
    {
      "cell_type": "markdown",
      "source": [
        "Temos problemas nos indices 21 e 22, podemos atualizar os valores nulos e colocar como o mais comum, entre todos"
      ],
      "metadata": {
        "id": "lJmHIGpUYAB_"
      }
    },
    {
      "cell_type": "code",
      "source": [
        "df['arroz2'].value_counts() "
      ],
      "metadata": {
        "id": "D6_DWxwoOzJ0"
      },
      "execution_count": null,
      "outputs": []
    },
    {
      "cell_type": "markdown",
      "source": [
        "analisando a contagem acima, decidimos colocar os dois faltantes como o mais comum, 'baixo', que significa que o arroz fica embaixo do feijão"
      ],
      "metadata": {
        "id": "5e6J84z3Yrfn"
      }
    },
    {
      "cell_type": "code",
      "source": [
        "df['arroz2'] = df['arroz2'].fillna(df['arroz2'].mode()[0])   \n",
        "df['arroz2']"
      ],
      "metadata": {
        "id": "iPPxFdJFXejZ"
      },
      "execution_count": null,
      "outputs": []
    },
    {
      "cell_type": "markdown",
      "source": [
        "Agora vamos definir a coluna 'arroz'"
      ],
      "metadata": {
        "id": "n6dGLc8SZB0y"
      }
    },
    {
      "cell_type": "code",
      "source": [
        "df['arroz'] = df['arroz2']"
      ],
      "metadata": {
        "id": "_2WBlppwY9Na"
      },
      "execution_count": 40,
      "outputs": []
    },
    {
      "cell_type": "markdown",
      "source": [
        "# Coluna Ovo"
      ],
      "metadata": {
        "id": "wfxY2w8eZOsI"
      }
    },
    {
      "cell_type": "markdown",
      "source": [
        "Para tratarmos a coluna ovo, vamos fazer o mesmo procedimento"
      ],
      "metadata": {
        "id": "o8S6Pw4LZhvv"
      }
    },
    {
      "cell_type": "code",
      "source": [
        "df['ovo'].value_counts() "
      ],
      "metadata": {
        "id": "dObNOiY3Ytln"
      },
      "execution_count": null,
      "outputs": []
    },
    {
      "cell_type": "code",
      "source": [
        "df['ovo']"
      ],
      "metadata": {
        "id": "ePS9165uZdlu"
      },
      "execution_count": null,
      "outputs": []
    },
    {
      "cell_type": "markdown",
      "source": [
        "Temos 3 index com problemas e vamos substituílos pelo mais comum"
      ],
      "metadata": {
        "id": "XvdF-IUGZrXT"
      }
    },
    {
      "cell_type": "markdown",
      "source": [
        "primeiro, vou substituir o index 21, depois vou substituir os valores nulos "
      ],
      "metadata": {
        "id": "xiV9fista0IR"
      }
    },
    {
      "cell_type": "code",
      "source": [
        "df.loc[21,\"ovo\"] = \"gema mole\"             # substituindo o index 21\n",
        "df['ovo'] = df['ovo'].fillna(df['ovo'].mode()[0])    #substituindo os valores nulos\n",
        "df['ovo']\n",
        "df['ovo'].value_counts() "
      ],
      "metadata": {
        "id": "_-fVtyW6aF8P"
      },
      "execution_count": null,
      "outputs": []
    },
    {
      "cell_type": "markdown",
      "source": [
        "Feito o tratamento da coluna 'ovo'"
      ],
      "metadata": {
        "id": "Sy_ByTYnbKD1"
      }
    },
    {
      "cell_type": "markdown",
      "source": [
        "# Coluna Rodizio"
      ],
      "metadata": {
        "id": "SPmfo4rwbOXK"
      }
    },
    {
      "cell_type": "code",
      "source": [
        "df['rodizio'].value_counts()    "
      ],
      "metadata": {
        "id": "R6ez5AgxY0qo"
      },
      "execution_count": null,
      "outputs": []
    },
    {
      "cell_type": "markdown",
      "source": [
        " mostrar quais indices não estão conforme os 3 string da função, os diferentes de \"carne\", \"japa\" e \"pizza\""
      ],
      "metadata": {
        "id": "Nva22xZ8V_qL"
      }
    },
    {
      "cell_type": "code",
      "source": [
        "df[(df['rodizio'] != \"carne\") & (df['rodizio'] != \"japa\") & (df['rodizio'] != \"pizza\")].index  "
      ],
      "metadata": {
        "id": "Yq2starxV0X0"
      },
      "execution_count": null,
      "outputs": []
    },
    {
      "cell_type": "markdown",
      "source": [
        "da pra ver que o index 21 e o 22 não estão conformes"
      ],
      "metadata": {
        "id": "bBh8dFzWZB4Q"
      }
    },
    {
      "cell_type": "markdown",
      "source": [
        "outro método de saber isso é criando uma lista e fazendo o not do que esta dentro da lista"
      ],
      "metadata": {
        "id": "NpT0IJaJZGRt"
      }
    },
    {
      "cell_type": "code",
      "source": [
        "lista = ['carne','pizza','japa']\n",
        "df[~df['rodizio'].isin(lista)] "
      ],
      "metadata": {
        "id": "ZGN2FS1_ZOMd"
      },
      "execution_count": null,
      "outputs": []
    },
    {
      "cell_type": "markdown",
      "source": [
        "vimos que precisamos ajustar dois valores, 'Japa' e 'carne/pizza', 'Japa' só vou ajustar para letras minusculas e 'carne/pizza', vou colocar para o mais comum."
      ],
      "metadata": {
        "id": "a3feAyqObZHj"
      }
    },
    {
      "cell_type": "code",
      "source": [
        "df.loc[21,\"rodizio\"] = \"japa\"\n",
        "df.loc[22,\"rodizio\"] = \"pizza\"\n",
        "df[\"rodizio\"]\n",
        "df[\"rodizio\"].value_counts() "
      ],
      "metadata": {
        "id": "5n6j3Irfb5xz"
      },
      "execution_count": null,
      "outputs": []
    },
    {
      "cell_type": "markdown",
      "source": [
        "Para ver em porcentagem podemos usar o código abaixo"
      ],
      "metadata": {
        "id": "xRm_T6zjaf-6"
      }
    },
    {
      "cell_type": "code",
      "source": [
        "df['rodizio'].value_counts(normalize = True)"
      ],
      "metadata": {
        "id": "JisVdcdiae5X"
      },
      "execution_count": null,
      "outputs": []
    },
    {
      "cell_type": "markdown",
      "source": [
        "# Coluna Coxinha"
      ],
      "metadata": {
        "id": "tBmg0t2wccST"
      }
    },
    {
      "cell_type": "code",
      "source": [
        "df['coxinha'].value_counts()       "
      ],
      "metadata": {
        "id": "dEu69_npab4Q"
      },
      "execution_count": null,
      "outputs": []
    },
    {
      "cell_type": "code",
      "source": [
        "df['coxinha']  "
      ],
      "metadata": {
        "id": "-qSNH4UgcvHg"
      },
      "execution_count": null,
      "outputs": []
    },
    {
      "cell_type": "markdown",
      "source": [
        "Temos apenas um problema, no index 22, vamos colocar como mais comum, OBS: como estamos vendo que o problema seguido se repete com a linha 22, podemos excluir ela inteira, mas é apenas uma sugestão"
      ],
      "metadata": {
        "id": "IRmZOkNSczqB"
      }
    },
    {
      "cell_type": "code",
      "source": [
        "df.loc[22,'coxinha'] = \"bico\""
      ],
      "metadata": {
        "id": "RXH3bvhOdIy6"
      },
      "execution_count": 51,
      "outputs": []
    },
    {
      "cell_type": "markdown",
      "source": [
        "# Coluna Travesseiro"
      ],
      "metadata": {
        "id": "cTlRa1MRdamb"
      }
    },
    {
      "cell_type": "code",
      "source": [
        "df['travesseiro'].value_counts()   "
      ],
      "metadata": {
        "id": "AKPul9WlanGT"
      },
      "execution_count": null,
      "outputs": []
    },
    {
      "cell_type": "code",
      "source": [
        "df['travesseiro']"
      ],
      "metadata": {
        "id": "eDJoHjcDde3x"
      },
      "execution_count": null,
      "outputs": []
    },
    {
      "cell_type": "markdown",
      "source": [
        "Como dito antes, o problema se repete na linha 22, então vamos excluir. Até pq os valores dados a ela não são inteiramente verdadeiros, sendo que estamos atribuindo conforme achamos mais conveniênte"
      ],
      "metadata": {
        "id": "OK7m0Un_diUF"
      }
    },
    {
      "cell_type": "markdown",
      "source": [
        "Excluindo a linha 22 e reorganizando os índices"
      ],
      "metadata": {
        "id": "cXgXh_-jeTVV"
      }
    },
    {
      "cell_type": "code",
      "source": [
        "df = df.drop(index=22)"
      ],
      "metadata": {
        "id": "3KxlRzfWdxBx"
      },
      "execution_count": 54,
      "outputs": []
    },
    {
      "cell_type": "code",
      "source": [
        "df=df.reset_index()"
      ],
      "metadata": {
        "id": "LsNrJ8TofO04"
      },
      "execution_count": 55,
      "outputs": []
    },
    {
      "cell_type": "code",
      "source": [
        "df"
      ],
      "metadata": {
        "id": "oUFOW6IqfvPP"
      },
      "execution_count": null,
      "outputs": []
    },
    {
      "cell_type": "markdown",
      "source": [
        "#Coluna Localidade"
      ],
      "metadata": {
        "id": "klL3zPaMgYBc"
      }
    },
    {
      "cell_type": "code",
      "source": [
        "df['localidade'].value_counts()   "
      ],
      "metadata": {
        "id": "bTVjnfkZbUsj"
      },
      "execution_count": null,
      "outputs": []
    },
    {
      "cell_type": "code",
      "source": [
        "df['localidade']"
      ],
      "metadata": {
        "id": "fqe69TU2gcYo"
      },
      "execution_count": null,
      "outputs": []
    },
    {
      "cell_type": "markdown",
      "source": [
        "Podemos ver q uma cidade esta em o estado e a outra esta com '-' no lugar de '/'"
      ],
      "metadata": {
        "id": "qQYPd-EwMecw"
      }
    },
    {
      "cell_type": "markdown",
      "source": [
        "Vou substituir \"-\" por \"/\""
      ],
      "metadata": {
        "id": "Of3ZOh5fL2Xd"
      }
    },
    {
      "cell_type": "code",
      "source": [
        "df['localidade'] = df['localidade'].str.replace('-','/')"
      ],
      "metadata": {
        "id": "CZblZMT_cog5"
      },
      "execution_count": 59,
      "outputs": []
    },
    {
      "cell_type": "markdown",
      "source": [
        "Vou inserir a sigra do estado"
      ],
      "metadata": {
        "id": "twxPiMevL-eX"
      }
    },
    {
      "cell_type": "code",
      "source": [
        "df = df.replace('Rio de Janeiro','Rio de Janeiro/RJ')"
      ],
      "metadata": {
        "id": "-BlTTH1HdCEQ"
      },
      "execution_count": 60,
      "outputs": []
    },
    {
      "cell_type": "markdown",
      "source": [
        "Agora vou utilizar a coluna localidade e criar outras duas, separar em cidade e estado"
      ],
      "metadata": {
        "id": "2PUhhHhIMEDR"
      }
    },
    {
      "cell_type": "code",
      "source": [
        "df[['cidade','estado']] = df['localidade'].str.split('/',expand = True)   #cria cidade e estado a partir de localidade  \n"
      ],
      "metadata": {
        "id": "-Fm61vWYS5im"
      },
      "execution_count": 61,
      "outputs": []
    },
    {
      "cell_type": "code",
      "source": [
        "df"
      ],
      "metadata": {
        "id": "upZONjuvTyOG"
      },
      "execution_count": null,
      "outputs": []
    },
    {
      "cell_type": "markdown",
      "source": [
        "Apagando as colunas que não nos interessam"
      ],
      "metadata": {
        "id": "muBu1xIZNWjf"
      }
    },
    {
      "cell_type": "code",
      "source": [
        "df = df.drop(columns = ['bb','arroz2'])"
      ],
      "metadata": {
        "id": "iGIbniLMM6Jo"
      },
      "execution_count": 64,
      "outputs": []
    },
    {
      "cell_type": "code",
      "source": [
        "df = df.drop(columns = ['level_0','index'])"
      ],
      "metadata": {
        "id": "TJ7KGnGzNaH_"
      },
      "execution_count": 65,
      "outputs": []
    },
    {
      "cell_type": "code",
      "source": [
        "df.head(1)"
      ],
      "metadata": {
        "id": "EyXMUWatNn68"
      },
      "execution_count": null,
      "outputs": []
    },
    {
      "cell_type": "markdown",
      "source": [
        "# Coluna Time"
      ],
      "metadata": {
        "id": "iblrkkTSNudx"
      }
    },
    {
      "cell_type": "markdown",
      "source": [
        "Checando os strings da coluna"
      ],
      "metadata": {
        "id": "iympoIDdNAek"
      }
    },
    {
      "cell_type": "code",
      "source": [
        "df['time'].value_counts()  "
      ],
      "metadata": {
        "id": "k1ujtd12NyBx"
      },
      "execution_count": null,
      "outputs": []
    },
    {
      "cell_type": "code",
      "source": [
        "df['time']"
      ],
      "metadata": {
        "id": "Gi4_saGnOQ0U"
      },
      "execution_count": null,
      "outputs": []
    },
    {
      "cell_type": "markdown",
      "source": [
        "Temos alguns problemas, vou subtituir as palavras 'não' e nulos por 'sem time'. O 'vai corinthian' vou transforar em corinthias "
      ],
      "metadata": {
        "id": "YfGJ68JMQAuw"
      }
    },
    {
      "cell_type": "code",
      "source": [
        "df['time'] =  df['time'].replace('não','sem time')\n",
        "df = df.replace('VAI CURINTIA','Corinthians')\n",
        "df['time'] = df['time'].fillna('sem time')"
      ],
      "metadata": {
        "id": "ApHj7dhNO9pf"
      },
      "execution_count": 70,
      "outputs": []
    },
    {
      "cell_type": "code",
      "source": [
        "df['time']  "
      ],
      "metadata": {
        "id": "gQT1C8UmN1-i"
      },
      "execution_count": null,
      "outputs": []
    },
    {
      "cell_type": "markdown",
      "source": [
        "# Coluna Catchup"
      ],
      "metadata": {
        "id": "wSyAb88CP9dG"
      }
    },
    {
      "cell_type": "markdown",
      "source": [
        "Checando a coluna Catchup, para ver como foram escritos"
      ],
      "metadata": {
        "id": "lZaIpHgFNVWN"
      }
    },
    {
      "cell_type": "code",
      "source": [
        "df['catchup'].value_counts()  "
      ],
      "metadata": {
        "id": "WjRY9gNLQRQv"
      },
      "execution_count": null,
      "outputs": []
    },
    {
      "cell_type": "code",
      "source": [
        "df['catchup']"
      ],
      "metadata": {
        "id": "QAAU2sAeQapY"
      },
      "execution_count": null,
      "outputs": []
    },
    {
      "cell_type": "markdown",
      "source": [
        "Vou substituir todos por letras maiusculas, para essa forma funcionar, temos q subsituir todos os valores existentes, e os não existentes ficarão nulos."
      ],
      "metadata": {
        "id": "ywa4zSwLRgcD"
      }
    },
    {
      "cell_type": "markdown",
      "source": [
        "Vou criar uma coluna nova para não correr o risco de estrar a já feita"
      ],
      "metadata": {
        "id": "LSJjTG6wNq_K"
      }
    },
    {
      "cell_type": "code",
      "source": [
        "dic = {'sim': 'SIM','Sim':'SIM','Não':'NÃO','sem time':'NÃO'}\n",
        "df['cat2'] = df['catchup'].map(dic)  \n",
        "df['catchup'] = df['cat2']"
      ],
      "metadata": {
        "id": "8gLQ_RAGQlf7"
      },
      "execution_count": 74,
      "outputs": []
    },
    {
      "cell_type": "markdown",
      "source": [
        "Excluindo a caluna criada"
      ],
      "metadata": {
        "id": "67XKHyZJNiBY"
      }
    },
    {
      "cell_type": "code",
      "source": [
        "df = df.drop(columns = ['cat2'])"
      ],
      "metadata": {
        "id": "N510yWfrQ49b"
      },
      "execution_count": 75,
      "outputs": []
    },
    {
      "cell_type": "code",
      "source": [
        "df.head(2)"
      ],
      "metadata": {
        "id": "LAiyBD4aR6hN"
      },
      "execution_count": null,
      "outputs": []
    },
    {
      "cell_type": "markdown",
      "source": [
        "#Coluna Data_Nascimento"
      ],
      "metadata": {
        "id": "aK1pU1uHR8i6"
      }
    },
    {
      "cell_type": "markdown",
      "source": [
        "Analisando a coluna data de nascimento"
      ],
      "metadata": {
        "id": "oqPZ0QqeN0zT"
      }
    },
    {
      "cell_type": "code",
      "source": [
        "df['data_nasc']"
      ],
      "metadata": {
        "id": "_MqSZLWkR6ac"
      },
      "execution_count": null,
      "outputs": []
    },
    {
      "cell_type": "markdown",
      "source": [
        "Separar a coluna 'data_nasc' em outras 3 colunas, dia, mes e ano"
      ],
      "metadata": {
        "id": "xw7InCCiSE1B"
      }
    },
    {
      "cell_type": "code",
      "source": [
        "df['day'] = df['data_nasc'].dt.day\n",
        "df['month'] = df['data_nasc'].dt.month\n",
        "df['year'] = df['data_nasc'].dt.year"
      ],
      "metadata": {
        "id": "NcqpWhyeSP-H"
      },
      "execution_count": 80,
      "outputs": []
    },
    {
      "cell_type": "markdown",
      "source": [
        "Criar a coluna idade, utilizando a caluna ano diminuindo pelo ano atual"
      ],
      "metadata": {
        "id": "DMSFMOuHOCYZ"
      }
    },
    {
      "cell_type": "code",
      "source": [
        "df['idade'] =  2022 - df['year']"
      ],
      "metadata": {
        "id": "ah6_CJmgSc1d"
      },
      "execution_count": 81,
      "outputs": []
    },
    {
      "cell_type": "markdown",
      "source": [
        "Exportando os dados tratados"
      ],
      "metadata": {
        "id": "mNwDSTVfOMvf"
      }
    },
    {
      "cell_type": "code",
      "source": [
        "df.to_csv('dados_tratados.csv',index=False)  "
      ],
      "metadata": {
        "id": "8jq_eviseCJU"
      },
      "execution_count": 82,
      "outputs": []
    },
    {
      "cell_type": "markdown",
      "source": [
        "<!-- def mapear_regiao2 (x):\n",
        "  if x['estado'] in lista sudeste:\n",
        "    return 'Sudeste\n",
        "  else:\n",
        "    return 'Dutra' -->"
      ],
      "metadata": {
        "id": "_NyPBz3Gd7-E"
      }
    }
  ]
}