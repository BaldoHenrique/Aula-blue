{
  "nbformat": 4,
  "nbformat_minor": 0,
  "metadata": {
    "colab": {
      "name": "Exercícios de Aula -  Condicional",
      "provenance": [],
      "collapsed_sections": [],
      "authorship_tag": "ABX9TyMllSKg5znp5ngQT2V7NHWh",
      "include_colab_link": true
    },
    "kernelspec": {
      "name": "python3",
      "display_name": "Python 3"
    },
    "language_info": {
      "name": "python"
    }
  },
  "cells": [
    {
      "cell_type": "markdown",
      "metadata": {
        "id": "view-in-github",
        "colab_type": "text"
      },
      "source": [
        "<a href=\"https://colab.research.google.com/github/BaldoHenrique/Aula-blue/blob/main/Exerc%C3%ADcios_de_Aula_Condicional.ipynb\" target=\"_parent\"><img src=\"https://colab.research.google.com/assets/colab-badge.svg\" alt=\"Open In Colab\"/></a>"
      ]
    },
    {
      "cell_type": "markdown",
      "source": [
        "# Exercícios de Aula -  Condicional"
      ],
      "metadata": {
        "id": "p8lS01UYuYAl"
      }
    },
    {
      "cell_type": "markdown",
      "source": [
        "1 - Faça um programa que verifique se um número é par, ou ímpar"
      ],
      "metadata": {
        "id": "HG6xL1kVqzAK"
      }
    },
    {
      "cell_type": "code",
      "execution_count": null,
      "metadata": {
        "id": "yzfZ2m4Pqhw0"
      },
      "outputs": [],
      "source": [
        "num = int(input(\"Enter a number: \"))\n",
        "\n",
        "a = num%2\n",
        "if a==0:\n",
        "  print(\"your number is even\")\n",
        "else:\n",
        "  print(\"your number is odd\")"
      ]
    },
    {
      "cell_type": "markdown",
      "source": [
        "2 - Faça um programa que verifique se um número que verifique se um número é positivo, negativo, ou zero\n",
        "\n"
      ],
      "metadata": {
        "id": "7hCxPHabsfAK"
      }
    },
    {
      "cell_type": "code",
      "source": [
        "num = int(input(\"Enter a number: \"))\n",
        "\n",
        "if num>0:\n",
        "  print(\"your number is positive\")\n",
        "elif num<0:\n",
        "  print(\"your number is negative\")\n",
        "else :\n",
        "  print(\"your number is zero\")  "
      ],
      "metadata": {
        "id": "cIEUutx7sjiD"
      },
      "execution_count": null,
      "outputs": []
    },
    {
      "cell_type": "markdown",
      "source": [
        "3 - Faça um programa que verifique se um número é um número inteiro, ou se possui parte decimal. Por exemplo, o número 2 é um número inteiro, mas 2.3 possui parte decimal."
      ],
      "metadata": {
        "id": "TZE9oi9Ns9_m"
      }
    },
    {
      "cell_type": "code",
      "source": [
        "import math\n",
        "\n",
        "num = 20.0\n",
        "\n",
        "print(type(num))\n",
        "\n",
        "if isinstance(num, int)==True :         #checa o tipo da variavel\n",
        "  print(num,\"is a integer number\")\n",
        "elif isinstance(num, float)==True :\n",
        "  print(num,\"is a decimal number\")"
      ],
      "metadata": {
        "id": "WNDpGK8ltENp"
      },
      "execution_count": null,
      "outputs": []
    },
    {
      "cell_type": "markdown",
      "source": [
        "4 - Faça o mesmo programa que o anterior, de forma que a parte decimal deve ser diferente de 0, sendo que no caso de 2 ainda retorne um número inteiro e 2.0 também, mas caso seja 2.1 então é um número com parte decimal diferente de 0."
      ],
      "metadata": {
        "id": "BNeMFFFmwb6g"
      }
    },
    {
      "cell_type": "code",
      "source": [
        "import math\n",
        "\n",
        "num = float(input(\"Enter a number: \"))\n",
        "\n",
        "a = num/math.floor(num)\n",
        "print(a)\n",
        "if a==1 :\n",
        "  print(num,\"is a integer number\")\n",
        "else :\n",
        "  print(num,\"is a decimal number\")"
      ],
      "metadata": {
        "id": "C8rdNwfXwd1k"
      },
      "execution_count": null,
      "outputs": []
    },
    {
      "cell_type": "markdown",
      "source": [
        "5 - Faça um programa que peça a altura em metros e o peso em kg de uma pessoa e a classifique dentro da escala de Índice de Massa Corpórea."
      ],
      "metadata": {
        "id": "-6dpKRAFzJ76"
      }
    },
    {
      "cell_type": "code",
      "source": [
        "al = float(input(\"Enter your height in meters: \"))\n",
        "pe = float(input(\"Enter your weight in kg: \"))\n",
        "\n",
        "imc = pe/(al**2)\n",
        "print(\"your imc: \",imc)\n",
        "\n",
        "if imc<18.5 :\n",
        "  print(\"Low weight - weight:\",pe, \"height:\",al)\n",
        "elif 18.6<imc<24.9 :\n",
        "  print(\"Right weight - weight:\",pe, \"height:\",al)\n",
        "elif 25<imc<29.9 :\n",
        "  print(\"Overweight - weight:\",pe, \"height:\",al)\n",
        "elif 30<imc<34.9 :\n",
        "  print(\"Fat first level - weight:\",pe, \"height:\",al)\n",
        "elif 35<imc<39.9 :\n",
        "  print(\"Fat second level - weight:\",pe, \"height:\",al)\n",
        "elif imc>40 :\n",
        "  print(\"Fat critical level - weight:\",pe, \"height:\",al)\n"
      ],
      "metadata": {
        "id": "ymMgoI8dzJa-"
      },
      "execution_count": null,
      "outputs": []
    },
    {
      "cell_type": "markdown",
      "source": [
        "6 - Peça três números a um usuário e verifique se eles podem ser os lados de um triângulo.\n",
        "Obs.: Dados 3 números, eles poderão ser as medida de um triângulo se a soma de quaisquer dois é maior do que o terceiro valor.\n",
        "Por exemplo, os números 1, 1, 3 não formam um triângulo, porque 1 + 1 = 2 e 2 < 3.\n",
        "Já os números 3, 4, 5 formam um triângulo, pois a soma de quaisquer dois números supera o terceiro"
      ],
      "metadata": {
        "id": "MWS84rvL2ALL"
      }
    },
    {
      "cell_type": "code",
      "source": [
        "a = float(input(\"Enter a number: \"))\n",
        "b = float(input(\"Enter a number: \"))\n",
        "c = float(input(\"Enter a number: \"))\n",
        "\n",
        "if (a+b)>c and (a+c)>b and (c+b)>a :\n",
        "  print(\"Estes numeros podem ser lados de um triangulo\")\n",
        "else :\n",
        "  print(\"Estes numeros NÃO podem ser lados de um triangulo\") "
      ],
      "metadata": {
        "id": "qT37luRk2DSY"
      },
      "execution_count": null,
      "outputs": []
    },
    {
      "cell_type": "markdown",
      "source": [
        "7 - Acrescente no programa do exercício anterior um trecho que defina se um triângulo é equilátero (todos os lados de mesma medida), isóceles (dois lados de medidas iguais e um de medida diferente), ou escaleno (três lados com medidas distintas).\n",
        "8 - Melhore o programa anterior com os operadores and e or para verificar mais de uma condição na mesma linha da condicional."
      ],
      "metadata": {
        "id": "Q9xbA2YP3n77"
      }
    },
    {
      "cell_type": "code",
      "source": [
        "a = float(input(\"Enter a number: \"))\n",
        "b = float(input(\"Enter a number: \"))\n",
        "c = float(input(\"Enter a number: \"))\n",
        "\n",
        "if (a+b)>c and (a+c)>b and (c+b)>a :\n",
        "  print(\"Estes numeros podem ser lados de um triangulo\")\n",
        "  if a==b==c:\n",
        "    print(\"Formam um triangulo equilátero\")\n",
        "  elif a==b!=c or a!=b==c or a==c!=b  :\n",
        "    print(\"Formam um triangulo isóceles\")\n",
        "  elif a!=b!=c   :\n",
        "    print(\"Formam um triangulo escaleno\")\n",
        "else :\n",
        "  print(\"Estes numeros NÃO podem ser lados de um triangulo\") "
      ],
      "metadata": {
        "id": "s_MbTVPB3igR"
      },
      "execution_count": null,
      "outputs": []
    },
    {
      "cell_type": "markdown",
      "source": [
        "9 - Faça um programa para o usuário apostar cara, ou coroa e o programa deve exibir o resultado do lançamento da moeda e se a pessoa acertou."
      ],
      "metadata": {
        "id": "ExFAhzyv6N2i"
      }
    },
    {
      "cell_type": "code",
      "source": [
        "import random\n",
        "\n",
        "us = str(input(\"Escolha entre cara e coroa: \").strip().lower())\n",
        "\n",
        "ccr = random.choice([\"cara\",\"coroa\"])\n",
        "print(\"resultado da moeda:\",ccr)\n",
        "\n",
        "if ccr==us:\n",
        "  print(\"Usuário ganhou\")\n",
        "else :\n",
        "  print(\"Usuário perdeu\")"
      ],
      "metadata": {
        "id": "CZOQt5106SRf"
      },
      "execution_count": null,
      "outputs": []
    },
    {
      "cell_type": "markdown",
      "source": [
        "10 - Faça um programa que peça três números, organize-os em três variáveis num1, num2 e num3, tal que valha a relação num1 <= num2 e num2 <= num3. Armazene em variáveis os valores da média simples, mediana, mínimo e máximo dos números. Exiba na tela essas 4 variáveis em ordem crescente, com a mensagem do que cada número significa. Por exemplo, se o usuário digitar 2, 2, 8, então o programa mostrará a mensagem:\n",
        "O mínimo é 2\n",
        "A mediana é 2\n",
        "A média é 4\n",
        "O máximo é 8\n",
        "\n",
        "11 - Observação sobre o exercício anterior, não calcule os quartis, porque são poucos dados e essas medidas podem não ser representativas. O exercício anterior só tem o objetivo de praticar conceitos básicos de lógica de programação. Ao ter uma base de dados com pelo menos 20 observações, há a possibilidade de calcular as medidas estatísticas abordadas nas primeiras aulas com Orange, como o mínimo, máximo, média, mediana e quartis"
      ],
      "metadata": {
        "id": "qJ2utksoAEc6"
      }
    },
    {
      "cell_type": "code",
      "source": [
        "from typing import no_type_check\n",
        "n=[]\n",
        "n.append(float(input(\"Enter a number: \")))\n",
        "n.append(float(input(\"Enter a number: \")))\n",
        "n.append(float(input(\"Enter a number: \")))\n",
        "print(n)\n",
        "n.sort()\n",
        "print(n)\n",
        "num3 = n[0]\n",
        "num2 = n[1]\n",
        "num1 = n[2]\n",
        "print(num1,num2,num3)\n",
        "media = (num1+num2+num3)/3\n",
        "mediana = num2\n",
        "minimo = num1\n",
        "maximo = num3\n",
        "\n",
        "print(\"média: \",media)\n",
        "print(\"mediana: \",mediana)\n",
        "print(\"mínimo: \",minimo)\n",
        "print(\"máximo: \",maximo)"
      ],
      "metadata": {
        "id": "2jTiA0OpAHMb"
      },
      "execution_count": null,
      "outputs": []
    },
    {
      "cell_type": "markdown",
      "source": [
        "12 - Faça um programa que sorteia um número entre 1 e 9, e o usuário entra com um número. Caso o número do usuário seja do tipo float, menor do que 1, ou maior do que 9 o programa retorna uma mensagem de erro. Caso contrário o programa diz se o usuário acertou, ou não o palpite."
      ],
      "metadata": {
        "id": "IzDxENNCQWRE"
      }
    },
    {
      "cell_type": "code",
      "source": [
        "import random\n",
        "\n",
        "numus = int(input(\"Entre com um número entre 1 e 9: \"))\n",
        "numpc = random.randint(1,9)\n",
        "print(\"número usúario: \",numus, type(numus))\n",
        "print(\"número pc: \",numpc)\n",
        " \n",
        "if numus==numpc :\n",
        "  print(\"Usuário acertou o número!!\")\n",
        "elif isinstance(numus, float)==True : \n",
        "  print(\"Erro: Usuário colocou número decimal!!\")\n",
        "elif numus>9 : \n",
        "  print(\"Erro: Usuário colocou número maior que 9!!\")\n",
        "elif numus<1 : \n",
        "  print(\"Erro: Usuário colocou número menor que 1\")\n",
        "else :\n",
        "  print(\"Usúario não acertou o número\")\n"
      ],
      "metadata": {
        "id": "FV3sR4JTQfN4"
      },
      "execution_count": null,
      "outputs": []
    },
    {
      "cell_type": "markdown",
      "source": [
        "13 - Como seria um programa para o cálculo da conta de luz? E da conta de água? O que você pediria para o usuário digitar? Faça o programa baseado no cálculo referente a sua cidade."
      ],
      "metadata": {
        "id": "bpO1ffRuTv2w"
      }
    },
    {
      "cell_type": "code",
      "source": [
        "tluz = 5\n",
        "tagua = 3\n",
        "luz = float(input(\"Quantos kWs de energia foi gasto neste mês? \"))\n",
        "agua = float(input(\"Quantos metros quadrados de água foram gastos esse mês? \"))\n",
        "\n",
        "print(\"Conta de luz:\", (luz*tluz))\n",
        "print(\"Conta de água:\", (agua*tagua))\n"
      ],
      "metadata": {
        "id": "7-50MDndz7j6"
      },
      "execution_count": null,
      "outputs": []
    },
    {
      "cell_type": "markdown",
      "source": [
        "14 - Se num programa é pedido o ano de nascimento, mas é oferecido um ano absurdo, como tratar esse caso? Faça um programa e peça o ano de nascimento do usuário, depois exiba a idade que ele terá em 2022. Exiba mensagens de erro para os casos de ser oferecido um valor vazio, letras, ou um valor absurdo."
      ],
      "metadata": {
        "id": "lZVrDHkx2hgy"
      }
    },
    {
      "cell_type": "code",
      "source": [
        "dnasci = input(\"Coloque a sua data de nascimento(ex:2000): \")\n",
        "\n",
        "if dnasci.isnumeric()==True :\n",
        "  if len(dnasci)==4 :\n",
        "    dnf = int(dnasci)\n",
        "    if dnf>2022:\n",
        "      print(\"error: você colocou uma data superior ao ano que estamos\")\n",
        "    elif dnf<1900:\n",
        "      print(\"error: você colocou uma data muito antiga\")\n",
        "    else :\n",
        "      print(\"Sua idade é\",2022-dnf,\"anos\")\n",
        "  elif len(dnasci)>4 :\n",
        "    print(\"error: você colocou um valor com mais de 4 caracteres:\", dnasci)\n",
        "  elif len(dnasci)<4 :\n",
        "    print(\"error: você colocou um valor com menos de 4 caracteres:\", dnasci)\n",
        "else :\n",
        "  print(\"error: você colocou um valor com letras:\", dnasci)\n"
      ],
      "metadata": {
        "id": "qPFc0X1_2jJF"
      },
      "execution_count": null,
      "outputs": []
    }
  ]
}